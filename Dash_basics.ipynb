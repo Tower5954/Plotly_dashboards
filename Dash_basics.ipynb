{
 "cells": [
  {
   "cell_type": "markdown",
   "id": "loved-courtesy",
   "metadata": {},
   "source": [
    "# Dash basics"
   ]
  },
  {
   "cell_type": "code",
   "execution_count": 4,
   "id": "south-burke",
   "metadata": {},
   "outputs": [],
   "source": [
    "import dash\n",
    "from dash import dcc\n",
    "from dash import html"
   ]
  },
  {
   "cell_type": "code",
   "execution_count": 5,
   "id": "accepted-difference",
   "metadata": {},
   "outputs": [],
   "source": [
    "app = dash.Dash()"
   ]
  },
  {
   "cell_type": "code",
   "execution_count": 6,
   "id": "natural-suicide",
   "metadata": {},
   "outputs": [
    {
     "name": "stdout",
     "output_type": "stream",
     "text": [
      "Dash is running on http://127.0.0.1:8050/\n",
      "\n",
      " * Serving Flask app '__main__' (lazy loading)\n",
      " * Environment: production\n",
      "   WARNING: This is a development server. Do not use it in a production deployment.\n",
      "   Use a production WSGI server instead.\n",
      " * Debug mode: off\n"
     ]
    },
    {
     "name": "stderr",
     "output_type": "stream",
     "text": [
      " * Running on http://127.0.0.1:8050/ (Press CTRL+C to quit)\n",
      "127.0.0.1 - - [14/Jan/2022 12:19:11] \"GET / HTTP/1.1\" 200 -\n",
      "127.0.0.1 - - [14/Jan/2022 12:19:11] \"GET /_dash-component-suites/dash/deps/polyfill@7.v2_0_0m1642162317.12.1.min.js HTTP/1.1\" 200 -\n",
      "127.0.0.1 - - [14/Jan/2022 12:19:11] \"GET /_dash-component-suites/dash/deps/react@16.v2_0_0m1642162317.14.0.min.js HTTP/1.1\" 200 -\n",
      "127.0.0.1 - - [14/Jan/2022 12:19:11] \"GET /_dash-component-suites/dash/deps/react-dom@16.v2_0_0m1642162317.14.0.min.js HTTP/1.1\" 200 -\n",
      "127.0.0.1 - - [14/Jan/2022 12:19:11] \"GET /_dash-component-suites/dash/deps/prop-types@15.v2_0_0m1642162317.7.2.min.js HTTP/1.1\" 200 -\n",
      "127.0.0.1 - - [14/Jan/2022 12:19:11] \"GET /_dash-component-suites/dash/dash-renderer/build/dash_renderer.v2_0_0m1642162317.min.js HTTP/1.1\" 200 -\n",
      "127.0.0.1 - - [14/Jan/2022 12:19:11] \"GET /_dash-component-suites/dash/dcc/dash_core_components.v2_0_0m1642162317.js HTTP/1.1\" 200 -\n",
      "127.0.0.1 - - [14/Jan/2022 12:19:11] \"GET /_dash-component-suites/dash/dcc/dash_core_components-shared.v2_0_0m1642162317.js HTTP/1.1\" 200 -\n",
      "127.0.0.1 - - [14/Jan/2022 12:19:11] \"GET /_dash-component-suites/dash/dash_table/bundle.v5_0_0m1642162317.js HTTP/1.1\" 200 -\n",
      "127.0.0.1 - - [14/Jan/2022 12:19:11] \"GET /_dash-component-suites/dash/html/dash_html_components.v2_0_0m1642162317.min.js HTTP/1.1\" 200 -\n",
      "127.0.0.1 - - [14/Jan/2022 12:19:11] \"GET /_dash-layout HTTP/1.1\" 200 -\n",
      "127.0.0.1 - - [14/Jan/2022 12:19:11] \"GET /_dash-dependencies HTTP/1.1\" 200 -\n",
      "127.0.0.1 - - [14/Jan/2022 12:19:11] \"GET /_favicon.ico?v=2.0.0 HTTP/1.1\" 200 -\n"
     ]
    }
   ],
   "source": [
    "app.layout = html.Div(children=[\n",
    "    html.H1('Hello Dash')\n",
    "])\n",
    "\n",
    "if __name__ == '__main__':\n",
    "    app.run_server()"
   ]
  },
  {
   "cell_type": "code",
   "execution_count": 7,
   "id": "american-income",
   "metadata": {},
   "outputs": [
    {
     "name": "stdout",
     "output_type": "stream",
     "text": [
      "Dash is running on http://127.0.0.1:8050/\n",
      "\n",
      " * Serving Flask app '__main__' (lazy loading)\n",
      " * Environment: production\n",
      "   WARNING: This is a development server. Do not use it in a production deployment.\n",
      "   Use a production WSGI server instead.\n",
      " * Debug mode: off\n"
     ]
    },
    {
     "name": "stderr",
     "output_type": "stream",
     "text": [
      " * Running on http://127.0.0.1:8050/ (Press CTRL+C to quit)\n",
      "127.0.0.1 - - [14/Jan/2022 12:31:17] \"GET / HTTP/1.1\" 200 -\n",
      "127.0.0.1 - - [14/Jan/2022 12:31:17] \"GET /_dash-layout HTTP/1.1\" 200 -\n",
      "127.0.0.1 - - [14/Jan/2022 12:31:17] \"GET /_dash-dependencies HTTP/1.1\" 200 -\n",
      "127.0.0.1 - - [14/Jan/2022 12:31:18] \"GET /_favicon.ico?v=2.0.0 HTTP/1.1\" 200 -\n"
     ]
    }
   ],
   "source": [
    "app.layout = html.Div(children=[\n",
    "    html.H1('Hello Dash'),\n",
    "    html.Div('Dash: Web Dashboards with Python')\n",
    "])\n",
    "\n",
    "if __name__ == '__main__':\n",
    "    app.run_server()"
   ]
  },
  {
   "cell_type": "code",
   "execution_count": 8,
   "id": "creative-alaska",
   "metadata": {},
   "outputs": [
    {
     "name": "stdout",
     "output_type": "stream",
     "text": [
      "Dash is running on http://127.0.0.1:8050/\n",
      "\n",
      " * Serving Flask app '__main__' (lazy loading)\n",
      " * Environment: production\n",
      "   WARNING: This is a development server. Do not use it in a production deployment.\n",
      "   Use a production WSGI server instead.\n",
      " * Debug mode: off\n"
     ]
    },
    {
     "name": "stderr",
     "output_type": "stream",
     "text": [
      " * Running on http://127.0.0.1:8050/ (Press CTRL+C to quit)\n",
      "127.0.0.1 - - [14/Jan/2022 12:40:42] \"GET / HTTP/1.1\" 200 -\n",
      "127.0.0.1 - - [14/Jan/2022 12:40:42] \"GET /_dash-layout HTTP/1.1\" 200 -\n",
      "127.0.0.1 - - [14/Jan/2022 12:40:42] \"GET /_dash-dependencies HTTP/1.1\" 200 -\n",
      "127.0.0.1 - - [14/Jan/2022 12:40:42] \"GET /_dash-component-suites/dash/dcc/async-graph.js HTTP/1.1\" 200 -\n",
      "127.0.0.1 - - [14/Jan/2022 12:40:42] \"GET /_dash-component-suites/dash/dcc/async-plotlyjs.js HTTP/1.1\" 200 -\n"
     ]
    }
   ],
   "source": [
    "app.layout = html.Div(children=[\n",
    "    html.H1('Hello Dash'),\n",
    "    html.Div('Dash: Web Dashboards with Python'),\n",
    "    \n",
    "    dcc.Graph(id='example',\n",
    "              figure={'data': [{'x':[1,2,3], 'y':[4,1,2], 'type':'bar', 'name':'SF'},\n",
    "                               {'x':[1,2,3], 'y':[2,4,5], 'type':'bar', 'name':'NYC'}\n",
    "                              ],\n",
    "                      'layout': {'title': 'BAR PLOTS'}})\n",
    "])\n",
    "\n",
    "if __name__ == '__main__':\n",
    "    app.run_server()"
   ]
  },
  {
   "cell_type": "code",
   "execution_count": null,
   "id": "thirty-rabbit",
   "metadata": {},
   "outputs": [],
   "source": []
  }
 ],
 "metadata": {
  "kernelspec": {
   "display_name": "Python 3",
   "language": "python",
   "name": "python3"
  },
  "language_info": {
   "codemirror_mode": {
    "name": "ipython",
    "version": 3
   },
   "file_extension": ".py",
   "mimetype": "text/x-python",
   "name": "python",
   "nbconvert_exporter": "python",
   "pygments_lexer": "ipython3",
   "version": "3.9.2"
  }
 },
 "nbformat": 4,
 "nbformat_minor": 5
}
