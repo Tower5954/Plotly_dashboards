{
 "cells": [
  {
   "cell_type": "markdown",
   "id": "treated-player",
   "metadata": {},
   "source": [
    "# Dash Components"
   ]
  },
  {
   "cell_type": "markdown",
   "id": "seasonal-carrier",
   "metadata": {},
   "source": [
    "Dash components are provided by two libraries:\n",
    "    * dash_html_components - html\n",
    "    * dash_core_components - dcc\n",
    "    \n",
    "**HTML** components describe the layout of the page.\n",
    "\n",
    "**Dcc** components describe the individual graphs themselves."
   ]
  },
  {
   "cell_type": "markdown",
   "id": "directed-consultancy",
   "metadata": {},
   "source": [
    "### HTML Components\n",
    "\n",
    "Dash allows you to leverage previous knowledge of HTML and CSS to create very customised dashboards.\n",
    "* Pick the relevant html component.\n",
    "* Insert parameters into html component.\n",
    "* Adjust CSS style dictionary.\n",
    "    * Define a general CSS style dictionary."
   ]
  },
  {
   "cell_type": "code",
   "execution_count": 1,
   "id": "electoral-princeton",
   "metadata": {},
   "outputs": [],
   "source": [
    "import dash\n",
    "from dash import html\n",
    "from dash import dcc"
   ]
  },
  {
   "cell_type": "code",
   "execution_count": 2,
   "id": "passing-retrieval",
   "metadata": {},
   "outputs": [
    {
     "name": "stdout",
     "output_type": "stream",
     "text": [
      "Dash is running on http://127.0.0.1:8050/\n",
      "\n",
      " * Serving Flask app '__main__' (lazy loading)\n",
      " * Environment: production\n",
      "   WARNING: This is a development server. Do not use it in a production deployment.\n",
      "   Use a production WSGI server instead.\n",
      " * Debug mode: off\n"
     ]
    },
    {
     "name": "stderr",
     "output_type": "stream",
     "text": [
      " * Running on http://127.0.0.1:8050/ (Press CTRL+C to quit)\n",
      "127.0.0.1 - - [15/Jan/2022 05:04:10] \"GET / HTTP/1.1\" 200 -\n",
      "127.0.0.1 - - [15/Jan/2022 05:04:10] \"GET /_dash-dependencies HTTP/1.1\" 200 -\n",
      "127.0.0.1 - - [15/Jan/2022 05:04:10] \"GET /_dash-layout HTTP/1.1\" 200 -\n"
     ]
    }
   ],
   "source": [
    "app = dash.Dash()\n",
    "\n",
    "app.layout = html.Div(['This is the outermost div!'])\n",
    "\n",
    "\n",
    "if __name__ == '__main__':\n",
    "    app.run_server()"
   ]
  },
  {
   "cell_type": "markdown",
   "id": "fuzzy-distinction",
   "metadata": {},
   "source": [
    "#### Styling"
   ]
  },
  {
   "cell_type": "code",
   "execution_count": 3,
   "id": "willing-purchase",
   "metadata": {},
   "outputs": [
    {
     "name": "stdout",
     "output_type": "stream",
     "text": [
      "Dash is running on http://127.0.0.1:8050/\n",
      "\n",
      "Dash is running on http://127.0.0.1:8050/\n",
      "\n",
      " * Serving Flask app '__main__' (lazy loading)\n",
      " * Environment: production\n",
      "   WARNING: This is a development server. Do not use it in a production deployment.\n",
      "   Use a production WSGI server instead.\n",
      " * Debug mode: off\n"
     ]
    },
    {
     "name": "stderr",
     "output_type": "stream",
     "text": [
      " * Running on http://127.0.0.1:8050/ (Press CTRL+C to quit)\n",
      "127.0.0.1 - - [15/Jan/2022 05:07:14] \"GET / HTTP/1.1\" 200 -\n",
      "127.0.0.1 - - [15/Jan/2022 05:07:14] \"GET /_dash-layout HTTP/1.1\" 200 -\n",
      "127.0.0.1 - - [15/Jan/2022 05:07:14] \"GET /_dash-dependencies HTTP/1.1\" 200 -\n"
     ]
    }
   ],
   "source": [
    "app = dash.Dash()\n",
    "\n",
    "app.layout = html.Div(['This is the outermost div!'],\n",
    "                     style={'color':'green',\n",
    "                            'border':'2px green solid'})\n",
    "\n",
    "\n",
    "if __name__ == '__main__':\n",
    "    app.run_server()"
   ]
  },
  {
   "cell_type": "code",
   "execution_count": 6,
   "id": "pretty-botswana",
   "metadata": {},
   "outputs": [
    {
     "name": "stdout",
     "output_type": "stream",
     "text": [
      "Dash is running on http://127.0.0.1:8050/\n",
      "\n",
      "Dash is running on http://127.0.0.1:8050/\n",
      "\n",
      "Dash is running on http://127.0.0.1:8050/\n",
      "\n",
      "Dash is running on http://127.0.0.1:8050/\n",
      "\n",
      " * Serving Flask app '__main__' (lazy loading)\n",
      " * Environment: production\n",
      "   WARNING: This is a development server. Do not use it in a production deployment.\n",
      "   Use a production WSGI server instead.\n",
      " * Debug mode: off\n"
     ]
    },
    {
     "name": "stderr",
     "output_type": "stream",
     "text": [
      " * Running on http://127.0.0.1:8050/ (Press CTRL+C to quit)\n",
      "127.0.0.1 - - [15/Jan/2022 05:16:52] \"GET / HTTP/1.1\" 200 -\n",
      "127.0.0.1 - - [15/Jan/2022 05:16:52] \"GET /_dash-layout HTTP/1.1\" 200 -\n",
      "127.0.0.1 - - [15/Jan/2022 05:16:52] \"GET /_dash-dependencies HTTP/1.1\" 200 -\n"
     ]
    }
   ],
   "source": [
    "app = dash.Dash()\n",
    "\n",
    "app.layout = html.Div(['This is the outermost div!',\n",
    "                      html.Div(['This is an inner div!'], style={'color':'red', 'border':'2px red solid'}),\n",
    "                      html.Div(['Another inner div!'], style={'color':'blue', 'border':'3px blue solid'})],\n",
    "                     style={'color':'green',\n",
    "                            'border':'2px green solid'})\n",
    "\n",
    "\n",
    "if __name__ == '__main__':\n",
    "    app.run_server()"
   ]
  },
  {
   "cell_type": "markdown",
   "id": "smart-paintball",
   "metadata": {},
   "source": [
    "### Core Components"
   ]
  },
  {
   "cell_type": "markdown",
   "id": "insured-scientist",
   "metadata": {},
   "source": [
    "Dash Core Components are more abstract (higher level) calls that allowyou to quickly insert common components into your dashboard.\n",
    "\n",
    "A reference to all core components can be found at https://dash.plot.ly/dash-core-components "
   ]
  },
  {
   "cell_type": "code",
   "execution_count": 9,
   "id": "otherwise-triumph",
   "metadata": {},
   "outputs": [
    {
     "name": "stdout",
     "output_type": "stream",
     "text": [
      "2.0.0\n"
     ]
    }
   ],
   "source": [
    "print(dcc.__version__)"
   ]
  },
  {
   "cell_type": "code",
   "execution_count": 10,
   "id": "ceramic-longitude",
   "metadata": {},
   "outputs": [
    {
     "name": "stdout",
     "output_type": "stream",
     "text": [
      "Dash is running on http://127.0.0.1:8050/\n",
      "\n",
      "Dash is running on http://127.0.0.1:8050/\n",
      "\n",
      "Dash is running on http://127.0.0.1:8050/\n",
      "\n",
      "Dash is running on http://127.0.0.1:8050/\n",
      "\n",
      "Dash is running on http://127.0.0.1:8050/\n",
      "\n",
      " * Serving Flask app '__main__' (lazy loading)\n",
      " * Environment: production\n",
      "   WARNING: This is a development server. Do not use it in a production deployment.\n",
      "   Use a production WSGI server instead.\n",
      " * Debug mode: off\n"
     ]
    },
    {
     "name": "stderr",
     "output_type": "stream",
     "text": [
      " * Running on http://127.0.0.1:8050/ (Press CTRL+C to quit)\n",
      "127.0.0.1 - - [15/Jan/2022 05:54:48] \"GET / HTTP/1.1\" 200 -\n",
      "127.0.0.1 - - [15/Jan/2022 05:54:48] \"GET /_dash-layout HTTP/1.1\" 200 -\n",
      "127.0.0.1 - - [15/Jan/2022 05:54:48] \"GET /_dash-dependencies HTTP/1.1\" 200 -\n",
      "127.0.0.1 - - [15/Jan/2022 05:54:48] \"GET /_dash-component-suites/dash/dcc/async-slider.js HTTP/1.1\" 200 -\n",
      "127.0.0.1 - - [15/Jan/2022 05:54:48] \"GET /_dash-component-suites/dash/dcc/async-dropdown.js HTTP/1.1\" 200 -\n"
     ]
    }
   ],
   "source": [
    "app = dash.Dash()\n",
    "\n",
    "app.layout = html.Div([\n",
    "    \n",
    "    html.Label('Dropdown'),\n",
    "    dcc.Dropdown(options=[{'label':'New York City',\n",
    "                           'value': 'NYC'},\n",
    "                          {'label':'South Shields',\n",
    "                           'value': 'SS'}],\n",
    "                 value='SS'),\n",
    "    \n",
    "    html.Label('Slider'),\n",
    "    dcc.Slider(min=-10, max=10, step=0.5, value=0)\n",
    "])\n",
    "\n",
    "\n",
    "\n",
    "if __name__ == '__main__':\n",
    "    app.run_server()"
   ]
  },
  {
   "cell_type": "markdown",
   "id": "marine-egypt",
   "metadata": {},
   "source": [
    "#### Styling"
   ]
  },
  {
   "cell_type": "code",
   "execution_count": 15,
   "id": "wooden-travel",
   "metadata": {},
   "outputs": [
    {
     "name": "stdout",
     "output_type": "stream",
     "text": [
      "Dash is running on http://127.0.0.1:8050/\n",
      "\n",
      "Dash is running on http://127.0.0.1:8050/\n",
      "\n",
      "Dash is running on http://127.0.0.1:8050/\n",
      "\n",
      "Dash is running on http://127.0.0.1:8050/\n",
      "\n",
      "Dash is running on http://127.0.0.1:8050/\n",
      "\n",
      "Dash is running on http://127.0.0.1:8050/\n",
      "\n",
      "Dash is running on http://127.0.0.1:8050/\n",
      "\n",
      "Dash is running on http://127.0.0.1:8050/\n",
      "\n",
      "Dash is running on http://127.0.0.1:8050/\n",
      "\n",
      " * Serving Flask app '__main__' (lazy loading)\n",
      " * Environment: production\n",
      "   WARNING: This is a development server. Do not use it in a production deployment.\n",
      "   Use a production WSGI server instead.\n",
      " * Debug mode: off\n"
     ]
    },
    {
     "name": "stderr",
     "output_type": "stream",
     "text": [
      " * Running on http://127.0.0.1:8050/ (Press CTRL+C to quit)\n"
     ]
    }
   ],
   "source": [
    "app = dash.Dash()\n",
    "\n",
    "app.layout = html.Div([\n",
    "    \n",
    "    html.Label('Dropdown'),\n",
    "    dcc.Dropdown(options=[{'label':'New York City',\n",
    "                           'value': 'NYC'},\n",
    "                          {'label':'South Shields',\n",
    "                           'value': 'SS'}],\n",
    "                 value='SS'),\n",
    "    \n",
    "    html.Label('Slider'),\n",
    "    dcc.Slider(min=-10, max=11, step=1, value=0,\n",
    "               marks={i: i for i in range(-10,11)})\n",
    "])\n",
    "\n",
    "\n",
    "\n",
    "if __name__ == '__main__':\n",
    "    app.run_server()"
   ]
  },
  {
   "cell_type": "markdown",
   "id": "lonely-acceptance",
   "metadata": {},
   "source": [
    "#### More components"
   ]
  },
  {
   "cell_type": "code",
   "execution_count": 17,
   "id": "competent-michael",
   "metadata": {},
   "outputs": [
    {
     "name": "stdout",
     "output_type": "stream",
     "text": [
      "Dash is running on http://127.0.0.1:8050/\n",
      "\n",
      "Dash is running on http://127.0.0.1:8050/\n",
      "\n",
      "Dash is running on http://127.0.0.1:8050/\n",
      "\n",
      "Dash is running on http://127.0.0.1:8050/\n",
      "\n",
      "Dash is running on http://127.0.0.1:8050/\n",
      "\n",
      "Dash is running on http://127.0.0.1:8050/\n",
      "\n",
      "Dash is running on http://127.0.0.1:8050/\n",
      "\n",
      "Dash is running on http://127.0.0.1:8050/\n",
      "\n",
      "Dash is running on http://127.0.0.1:8050/\n",
      "\n",
      "Dash is running on http://127.0.0.1:8050/\n",
      "\n",
      "Dash is running on http://127.0.0.1:8050/\n",
      "\n",
      " * Serving Flask app '__main__' (lazy loading)\n",
      " * Environment: production\n",
      "   WARNING: This is a development server. Do not use it in a production deployment.\n",
      "   Use a production WSGI server instead.\n",
      " * Debug mode: off\n"
     ]
    },
    {
     "name": "stderr",
     "output_type": "stream",
     "text": [
      " * Running on http://127.0.0.1:8050/ (Press CTRL+C to quit)\n",
      "127.0.0.1 - - [15/Jan/2022 06:14:28] \"GET / HTTP/1.1\" 200 -\n",
      "127.0.0.1 - - [15/Jan/2022 06:14:28] \"GET /_dash-layout HTTP/1.1\" 200 -\n",
      "127.0.0.1 - - [15/Jan/2022 06:14:28] \"GET /_dash-dependencies HTTP/1.1\" 200 -\n",
      "127.0.0.1 - - [15/Jan/2022 06:14:28] \"GET /_favicon.ico?v=2.0.0 HTTP/1.1\" 200 -\n",
      "127.0.0.1 - - [15/Jan/2022 06:14:28] \"GET /_dash-component-suites/dash/dcc/async-dropdown.js HTTP/1.1\" 200 -\n",
      "127.0.0.1 - - [15/Jan/2022 06:14:28] \"GET /_dash-component-suites/dash/dcc/async-slider.js HTTP/1.1\" 200 -\n"
     ]
    }
   ],
   "source": [
    "app = dash.Dash()\n",
    "\n",
    "app.layout = html.Div([\n",
    "    \n",
    "    html.Label('Dropdown'),\n",
    "    dcc.Dropdown(options=[{'label':'New York City',\n",
    "                           'value': 'NYC'},\n",
    "                          {'label':'South Shields',\n",
    "                           'value': 'SS'}],\n",
    "                 value='SS'),\n",
    "    \n",
    "    html.Label('Slider'),\n",
    "    dcc.Slider(min=-10, max=11, step=1, value=0,\n",
    "               marks={i: i for i in range(-10,11)}),\n",
    "    \n",
    "    html.P(html.Label('Radio')),\n",
    "    dcc.RadioItems(options=[{'label':'New York City',\n",
    "                           'value': 'NYC'},\n",
    "                          {'label':'South Shields',\n",
    "                           'value': 'SS'}],\n",
    "                  value='SS')\n",
    "])\n",
    "\n",
    "\n",
    "\n",
    "if __name__ == '__main__':\n",
    "    app.run_server()"
   ]
  },
  {
   "cell_type": "markdown",
   "id": "neural-barrel",
   "metadata": {},
   "source": [
    "### Markdown with Dash"
   ]
  },
  {
   "cell_type": "markdown",
   "id": "secondary-appliance",
   "metadata": {},
   "source": [
    "Dashboards can also display markdown text which allows for links, italics,bold text, bullet points and more.\n",
    "\n",
    "http://commonmark.org/help"
   ]
  },
  {
   "cell_type": "code",
   "execution_count": 2,
   "id": "moved-faculty",
   "metadata": {},
   "outputs": [
    {
     "name": "stdout",
     "output_type": "stream",
     "text": [
      "Dash is running on http://127.0.0.1:8050/\n",
      "\n",
      " * Serving Flask app '__main__' (lazy loading)\n",
      " * Environment: production\n",
      "   WARNING: This is a development server. Do not use it in a production deployment.\n",
      "   Use a production WSGI server instead.\n",
      " * Debug mode: off\n"
     ]
    },
    {
     "name": "stderr",
     "output_type": "stream",
     "text": [
      " * Running on http://127.0.0.1:8050/ (Press CTRL+C to quit)\n",
      "127.0.0.1 - - [16/Jan/2022 05:43:09] \"GET / HTTP/1.1\" 200 -\n",
      "127.0.0.1 - - [16/Jan/2022 05:43:09] \"GET /_dash-layout HTTP/1.1\" 200 -\n",
      "127.0.0.1 - - [16/Jan/2022 05:43:09] \"GET /_dash-dependencies HTTP/1.1\" 200 -\n",
      "127.0.0.1 - - [16/Jan/2022 05:43:10] \"GET /_dash-component-suites/dash/dcc/async-markdown.js HTTP/1.1\" 200 -\n",
      "127.0.0.1 - - [16/Jan/2022 05:43:10] \"GET /_dash-component-suites/dash/dcc/async-highlight.js HTTP/1.1\" 200 -\n"
     ]
    }
   ],
   "source": [
    "app = dash.Dash()\n",
    "\n",
    "markdown_text = '''\n",
    "### Markdown with dash\n",
    "Lorem ipsum dolor sit amet, consectetur adipiscing elit, sed do eiusmod tempor incididunt \n",
    "ut labore et dolore magna aliqua. Ut enim ad minim veniam, quis nostrud exercitation ullamco laboris nisi ut aliquip\n",
    "ex ea commodo consequat. Duis aute irure dolor in reprehenderit in voluptate velit esse cillum dolore\n",
    "eu fugiat nulla pariatur. Excepteur sint occaecat cupidatat non proident, sunt in culpa qui officia deserunt mollit anim id est laborum.\n",
    "[commonmark](http://commonmark.org/)\n",
    "'''\n",
    "\n",
    "app.layout = html.Div([\n",
    "    dcc.Markdown(children=markdown_text)\n",
    "])\n",
    "\n",
    "if __name__ == '__main__':\n",
    "    app.run_server()"
   ]
  },
  {
   "cell_type": "markdown",
   "id": "quick-alfred",
   "metadata": {},
   "source": [
    "### Dash help"
   ]
  },
  {
   "cell_type": "code",
   "execution_count": 3,
   "id": "southwest-absence",
   "metadata": {},
   "outputs": [
    {
     "name": "stdout",
     "output_type": "stream",
     "text": [
      "Help on class Div in module dash.html.Div:\n",
      "\n",
      "class Div(dash.development.base_component.Component)\n",
      " |  Div(children=None, id=undefined, n_clicks=undefined, n_clicks_timestamp=undefined, key=undefined, role=undefined, accessKey=undefined, className=undefined, contentEditable=undefined, contextMenu=undefined, dir=undefined, draggable=undefined, hidden=undefined, lang=undefined, spellCheck=undefined, style=undefined, tabIndex=undefined, title=undefined, loading_state=undefined, **kwargs)\n",
      " |  \n",
      " |  A Div component.\n",
      " |  Div is a wrapper for the <div> HTML5 element.\n",
      " |  For detailed attribute info see:\n",
      " |  https://developer.mozilla.org/en-US/docs/Web/HTML/Element/div\n",
      " |  \n",
      " |  Keyword arguments:\n",
      " |  \n",
      " |  - children (a list of or a singular dash component, string or number; optional):\n",
      " |      The children of this component.\n",
      " |  \n",
      " |  - id (string; optional):\n",
      " |      The ID of this component, used to identify dash components in\n",
      " |      callbacks. The ID needs to be unique across all of the components\n",
      " |      in an app.\n",
      " |  \n",
      " |  - accessKey (string; optional):\n",
      " |      Keyboard shortcut to activate or add focus to the element.\n",
      " |  \n",
      " |  - aria-* (string; optional):\n",
      " |      A wildcard aria attribute.\n",
      " |  \n",
      " |  - className (string; optional):\n",
      " |      Often used with CSS to style elements with common properties.\n",
      " |  \n",
      " |  - contentEditable (string; optional):\n",
      " |      Indicates whether the element's content is editable.\n",
      " |  \n",
      " |  - contextMenu (string; optional):\n",
      " |      Defines the ID of a <menu> element which will serve as the\n",
      " |      element's context menu.\n",
      " |  \n",
      " |  - data-* (string; optional):\n",
      " |      A wildcard data attribute.\n",
      " |  \n",
      " |  - dir (string; optional):\n",
      " |      Defines the text direction. Allowed values are ltr (Left-To-Right)\n",
      " |      or rtl (Right-To-Left).\n",
      " |  \n",
      " |  - draggable (string; optional):\n",
      " |      Defines whether the element can be dragged.\n",
      " |  \n",
      " |  - hidden (a value equal to: 'hidden', 'HIDDEN' | boolean; optional):\n",
      " |      Prevents rendering of given element, while keeping child elements,\n",
      " |      e.g. script elements, active.\n",
      " |  \n",
      " |  - key (string; optional):\n",
      " |      A unique identifier for the component, used to improve performance\n",
      " |      by React.js while rendering components See\n",
      " |      https://reactjs.org/docs/lists-and-keys.html for more info.\n",
      " |  \n",
      " |  - lang (string; optional):\n",
      " |      Defines the language used in the element.\n",
      " |  \n",
      " |  - loading_state (dict; optional):\n",
      " |      Object that holds the loading state object coming from\n",
      " |      dash-renderer.\n",
      " |  \n",
      " |      `loading_state` is a dict with keys:\n",
      " |  \n",
      " |      - component_name (string; optional):\n",
      " |          Holds the name of the component that is loading.\n",
      " |  \n",
      " |      - is_loading (boolean; optional):\n",
      " |          Determines if the component is loading or not.\n",
      " |  \n",
      " |      - prop_name (string; optional):\n",
      " |          Holds which property is loading.\n",
      " |  \n",
      " |  - n_clicks (number; default 0):\n",
      " |      An integer that represents the number of times that this element\n",
      " |      has been clicked on.\n",
      " |  \n",
      " |  - n_clicks_timestamp (number; default -1):\n",
      " |      An integer that represents the time (in ms since 1970) at which\n",
      " |      n_clicks changed. This can be used to tell which button was\n",
      " |      changed most recently.\n",
      " |  \n",
      " |  - role (string; optional):\n",
      " |      The ARIA role attribute.\n",
      " |  \n",
      " |  - spellCheck (string; optional):\n",
      " |      Indicates whether spell checking is allowed for the element.\n",
      " |  \n",
      " |  - style (dict; optional):\n",
      " |      Defines CSS styles which will override styles previously set.\n",
      " |  \n",
      " |  - tabIndex (string; optional):\n",
      " |      Overrides the browser's default tab order and follows the one\n",
      " |      specified instead.\n",
      " |  \n",
      " |  - title (string; optional):\n",
      " |      Text to be displayed in a tooltip when hovering over the element.\n",
      " |  \n",
      " |  Method resolution order:\n",
      " |      Div\n",
      " |      dash.development.base_component.Component\n",
      " |      builtins.object\n",
      " |  \n",
      " |  Methods defined here:\n",
      " |  \n",
      " |  __init__ = wrapper(self, children=None, id=undefined, n_clicks=undefined, n_clicks_timestamp=undefined, key=undefined, role=undefined, accessKey=undefined, className=undefined, contentEditable=undefined, contextMenu=undefined, dir=undefined, draggable=undefined, hidden=undefined, lang=undefined, spellCheck=undefined, style=undefined, tabIndex=undefined, title=undefined, loading_state=undefined, **kwargs)\n",
      " |  \n",
      " |  ----------------------------------------------------------------------\n",
      " |  Data and other attributes defined here:\n",
      " |  \n",
      " |  __abstractmethods__ = frozenset()\n",
      " |  \n",
      " |  ----------------------------------------------------------------------\n",
      " |  Methods inherited from dash.development.base_component.Component:\n",
      " |  \n",
      " |  __delitem__(self, id)\n",
      " |      Delete items by ID in the tree of children.\n",
      " |  \n",
      " |  __getitem__(self, id)\n",
      " |      Recursively find the element with the given ID through the tree of\n",
      " |      children.\n",
      " |  \n",
      " |  __iter__(self)\n",
      " |      Yield IDs in the tree of children.\n",
      " |  \n",
      " |  __len__(self)\n",
      " |      Return the number of items in the tree.\n",
      " |  \n",
      " |  __repr__(self)\n",
      " |      Return repr(self).\n",
      " |  \n",
      " |  __setitem__(self, id, item)\n",
      " |      Set an element by its ID.\n",
      " |  \n",
      " |  to_plotly_json(self)\n",
      " |  \n",
      " |  ----------------------------------------------------------------------\n",
      " |  Data descriptors inherited from dash.development.base_component.Component:\n",
      " |  \n",
      " |  __dict__\n",
      " |      dictionary for instance variables (if defined)\n",
      " |  \n",
      " |  __weakref__\n",
      " |      list of weak references to the object (if defined)\n",
      " |  \n",
      " |  ----------------------------------------------------------------------\n",
      " |  Data and other attributes inherited from dash.development.base_component.Component:\n",
      " |  \n",
      " |  REQUIRED = required\n",
      " |  \n",
      " |  UNDEFINED = undefined\n",
      "\n",
      "None\n"
     ]
    }
   ],
   "source": [
    "print(help(html.Div))"
   ]
  },
  {
   "cell_type": "code",
   "execution_count": null,
   "id": "sacred-accent",
   "metadata": {},
   "outputs": [],
   "source": []
  }
 ],
 "metadata": {
  "kernelspec": {
   "display_name": "Python 3",
   "language": "python",
   "name": "python3"
  },
  "language_info": {
   "codemirror_mode": {
    "name": "ipython",
    "version": 3
   },
   "file_extension": ".py",
   "mimetype": "text/x-python",
   "name": "python",
   "nbconvert_exporter": "python",
   "pygments_lexer": "ipython3",
   "version": "3.9.2"
  }
 },
 "nbformat": 4,
 "nbformat_minor": 5
}
