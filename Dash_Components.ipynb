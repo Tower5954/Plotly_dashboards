{
 "cells": [
  {
   "cell_type": "markdown",
   "id": "split-silver",
   "metadata": {},
   "source": [
    "# Dash Components"
   ]
  },
  {
   "cell_type": "markdown",
   "id": "discrete-puppy",
   "metadata": {},
   "source": [
    "Dash components are provided by two libraries:\n",
    "    * dash_html_components - html\n",
    "    * dash_core_components - dcc\n",
    "    \n",
    "**HTML** components describe the layout of the page.\n",
    "\n",
    "**Dcc** components describe the individual graphs themselves."
   ]
  },
  {
   "cell_type": "markdown",
   "id": "radio-charm",
   "metadata": {},
   "source": [
    "### HTML Components\n",
    "\n",
    "Dash allows you to leverage previous knowledge of HTML and CSS to create very customised dashboards.\n",
    "* Pick the relevant html component.\n",
    "* Insert parameters into html component.\n",
    "* Adjust CSS style dictionary.\n",
    "    * Define a general CSS style dictionary."
   ]
  },
  {
   "cell_type": "code",
   "execution_count": 8,
   "id": "communist-insured",
   "metadata": {},
   "outputs": [],
   "source": [
    "import dash\n",
    "from dash import html\n",
    "from dash import dcc"
   ]
  },
  {
   "cell_type": "code",
   "execution_count": 2,
   "id": "biological-lighter",
   "metadata": {},
   "outputs": [
    {
     "name": "stdout",
     "output_type": "stream",
     "text": [
      "Dash is running on http://127.0.0.1:8050/\n",
      "\n",
      " * Serving Flask app '__main__' (lazy loading)\n",
      " * Environment: production\n",
      "   WARNING: This is a development server. Do not use it in a production deployment.\n",
      "   Use a production WSGI server instead.\n",
      " * Debug mode: off\n"
     ]
    },
    {
     "name": "stderr",
     "output_type": "stream",
     "text": [
      " * Running on http://127.0.0.1:8050/ (Press CTRL+C to quit)\n",
      "127.0.0.1 - - [15/Jan/2022 05:04:10] \"GET / HTTP/1.1\" 200 -\n",
      "127.0.0.1 - - [15/Jan/2022 05:04:10] \"GET /_dash-dependencies HTTP/1.1\" 200 -\n",
      "127.0.0.1 - - [15/Jan/2022 05:04:10] \"GET /_dash-layout HTTP/1.1\" 200 -\n"
     ]
    }
   ],
   "source": [
    "app = dash.Dash()\n",
    "\n",
    "app.layout = html.Div(['This is the outermost div!'])\n",
    "\n",
    "\n",
    "if __name__ == '__main__':\n",
    "    app.run_server()"
   ]
  },
  {
   "cell_type": "markdown",
   "id": "growing-horror",
   "metadata": {},
   "source": [
    "#### Styling"
   ]
  },
  {
   "cell_type": "code",
   "execution_count": 3,
   "id": "pointed-election",
   "metadata": {},
   "outputs": [
    {
     "name": "stdout",
     "output_type": "stream",
     "text": [
      "Dash is running on http://127.0.0.1:8050/\n",
      "\n",
      "Dash is running on http://127.0.0.1:8050/\n",
      "\n",
      " * Serving Flask app '__main__' (lazy loading)\n",
      " * Environment: production\n",
      "   WARNING: This is a development server. Do not use it in a production deployment.\n",
      "   Use a production WSGI server instead.\n",
      " * Debug mode: off\n"
     ]
    },
    {
     "name": "stderr",
     "output_type": "stream",
     "text": [
      " * Running on http://127.0.0.1:8050/ (Press CTRL+C to quit)\n",
      "127.0.0.1 - - [15/Jan/2022 05:07:14] \"GET / HTTP/1.1\" 200 -\n",
      "127.0.0.1 - - [15/Jan/2022 05:07:14] \"GET /_dash-layout HTTP/1.1\" 200 -\n",
      "127.0.0.1 - - [15/Jan/2022 05:07:14] \"GET /_dash-dependencies HTTP/1.1\" 200 -\n"
     ]
    }
   ],
   "source": [
    "app = dash.Dash()\n",
    "\n",
    "app.layout = html.Div(['This is the outermost div!'],\n",
    "                     style={'color':'green',\n",
    "                            'border':'2px green solid'})\n",
    "\n",
    "\n",
    "if __name__ == '__main__':\n",
    "    app.run_server()"
   ]
  },
  {
   "cell_type": "code",
   "execution_count": 6,
   "id": "crucial-token",
   "metadata": {},
   "outputs": [
    {
     "name": "stdout",
     "output_type": "stream",
     "text": [
      "Dash is running on http://127.0.0.1:8050/\n",
      "\n",
      "Dash is running on http://127.0.0.1:8050/\n",
      "\n",
      "Dash is running on http://127.0.0.1:8050/\n",
      "\n",
      "Dash is running on http://127.0.0.1:8050/\n",
      "\n",
      " * Serving Flask app '__main__' (lazy loading)\n",
      " * Environment: production\n",
      "   WARNING: This is a development server. Do not use it in a production deployment.\n",
      "   Use a production WSGI server instead.\n",
      " * Debug mode: off\n"
     ]
    },
    {
     "name": "stderr",
     "output_type": "stream",
     "text": [
      " * Running on http://127.0.0.1:8050/ (Press CTRL+C to quit)\n",
      "127.0.0.1 - - [15/Jan/2022 05:16:52] \"GET / HTTP/1.1\" 200 -\n",
      "127.0.0.1 - - [15/Jan/2022 05:16:52] \"GET /_dash-layout HTTP/1.1\" 200 -\n",
      "127.0.0.1 - - [15/Jan/2022 05:16:52] \"GET /_dash-dependencies HTTP/1.1\" 200 -\n"
     ]
    }
   ],
   "source": [
    "app = dash.Dash()\n",
    "\n",
    "app.layout = html.Div(['This is the outermost div!',\n",
    "                      html.Div(['This is an inner div!'], style={'color':'red', 'border':'2px red solid'}),\n",
    "                      html.Div(['Another inner div!'], style={'color':'blue', 'border':'3px blue solid'})],\n",
    "                     style={'color':'green',\n",
    "                            'border':'2px green solid'})\n",
    "\n",
    "\n",
    "if __name__ == '__main__':\n",
    "    app.run_server()"
   ]
  },
  {
   "cell_type": "markdown",
   "id": "superb-riding",
   "metadata": {},
   "source": [
    "### Core Components"
   ]
  },
  {
   "cell_type": "markdown",
   "id": "square-novelty",
   "metadata": {},
   "source": [
    "Dash Core Components are more abstract (higher level) calls that allowyou to quickly insert common components into your dashboard.\n",
    "\n",
    "A reference to all core components can be found at https://dash.plot.ly/dash-core-components "
   ]
  },
  {
   "cell_type": "code",
   "execution_count": 9,
   "id": "editorial-feature",
   "metadata": {},
   "outputs": [
    {
     "name": "stdout",
     "output_type": "stream",
     "text": [
      "2.0.0\n"
     ]
    }
   ],
   "source": [
    "print(dcc.__version__)"
   ]
  },
  {
   "cell_type": "code",
   "execution_count": 10,
   "id": "designing-jacksonville",
   "metadata": {},
   "outputs": [
    {
     "name": "stdout",
     "output_type": "stream",
     "text": [
      "Dash is running on http://127.0.0.1:8050/\n",
      "\n",
      "Dash is running on http://127.0.0.1:8050/\n",
      "\n",
      "Dash is running on http://127.0.0.1:8050/\n",
      "\n",
      "Dash is running on http://127.0.0.1:8050/\n",
      "\n",
      "Dash is running on http://127.0.0.1:8050/\n",
      "\n",
      " * Serving Flask app '__main__' (lazy loading)\n",
      " * Environment: production\n",
      "   WARNING: This is a development server. Do not use it in a production deployment.\n",
      "   Use a production WSGI server instead.\n",
      " * Debug mode: off\n"
     ]
    },
    {
     "name": "stderr",
     "output_type": "stream",
     "text": [
      " * Running on http://127.0.0.1:8050/ (Press CTRL+C to quit)\n",
      "127.0.0.1 - - [15/Jan/2022 05:54:48] \"GET / HTTP/1.1\" 200 -\n",
      "127.0.0.1 - - [15/Jan/2022 05:54:48] \"GET /_dash-layout HTTP/1.1\" 200 -\n",
      "127.0.0.1 - - [15/Jan/2022 05:54:48] \"GET /_dash-dependencies HTTP/1.1\" 200 -\n",
      "127.0.0.1 - - [15/Jan/2022 05:54:48] \"GET /_dash-component-suites/dash/dcc/async-slider.js HTTP/1.1\" 200 -\n",
      "127.0.0.1 - - [15/Jan/2022 05:54:48] \"GET /_dash-component-suites/dash/dcc/async-dropdown.js HTTP/1.1\" 200 -\n"
     ]
    }
   ],
   "source": [
    "app = dash.Dash()\n",
    "\n",
    "app.layout = html.Div([\n",
    "    \n",
    "    html.Label('Dropdown'),\n",
    "    dcc.Dropdown(options=[{'label':'New York City',\n",
    "                           'value': 'NYC'},\n",
    "                          {'label':'South Shields',\n",
    "                           'value': 'SS'}],\n",
    "                 value='SS'),\n",
    "    \n",
    "    html.Label('Slider'),\n",
    "    dcc.Slider(min=-10, max=10, step=0.5, value=0)\n",
    "])\n",
    "\n",
    "\n",
    "\n",
    "if __name__ == '__main__':\n",
    "    app.run_server()"
   ]
  },
  {
   "cell_type": "markdown",
   "id": "every-cologne",
   "metadata": {},
   "source": [
    "#### Styling"
   ]
  },
  {
   "cell_type": "code",
   "execution_count": 15,
   "id": "pregnant-rental",
   "metadata": {},
   "outputs": [
    {
     "name": "stdout",
     "output_type": "stream",
     "text": [
      "Dash is running on http://127.0.0.1:8050/\n",
      "\n",
      "Dash is running on http://127.0.0.1:8050/\n",
      "\n",
      "Dash is running on http://127.0.0.1:8050/\n",
      "\n",
      "Dash is running on http://127.0.0.1:8050/\n",
      "\n",
      "Dash is running on http://127.0.0.1:8050/\n",
      "\n",
      "Dash is running on http://127.0.0.1:8050/\n",
      "\n",
      "Dash is running on http://127.0.0.1:8050/\n",
      "\n",
      "Dash is running on http://127.0.0.1:8050/\n",
      "\n",
      "Dash is running on http://127.0.0.1:8050/\n",
      "\n",
      " * Serving Flask app '__main__' (lazy loading)\n",
      " * Environment: production\n",
      "   WARNING: This is a development server. Do not use it in a production deployment.\n",
      "   Use a production WSGI server instead.\n",
      " * Debug mode: off\n"
     ]
    },
    {
     "name": "stderr",
     "output_type": "stream",
     "text": [
      " * Running on http://127.0.0.1:8050/ (Press CTRL+C to quit)\n"
     ]
    }
   ],
   "source": [
    "app = dash.Dash()\n",
    "\n",
    "app.layout = html.Div([\n",
    "    \n",
    "    html.Label('Dropdown'),\n",
    "    dcc.Dropdown(options=[{'label':'New York City',\n",
    "                           'value': 'NYC'},\n",
    "                          {'label':'South Shields',\n",
    "                           'value': 'SS'}],\n",
    "                 value='SS'),\n",
    "    \n",
    "    html.Label('Slider'),\n",
    "    dcc.Slider(min=-10, max=11, step=1, value=0,\n",
    "               marks={i: i for i in range(-10,11)})\n",
    "])\n",
    "\n",
    "\n",
    "\n",
    "if __name__ == '__main__':\n",
    "    app.run_server()"
   ]
  },
  {
   "cell_type": "markdown",
   "id": "designed-decrease",
   "metadata": {},
   "source": [
    "#### More components"
   ]
  },
  {
   "cell_type": "code",
   "execution_count": 17,
   "id": "alternate-disposal",
   "metadata": {},
   "outputs": [
    {
     "name": "stdout",
     "output_type": "stream",
     "text": [
      "Dash is running on http://127.0.0.1:8050/\n",
      "\n",
      "Dash is running on http://127.0.0.1:8050/\n",
      "\n",
      "Dash is running on http://127.0.0.1:8050/\n",
      "\n",
      "Dash is running on http://127.0.0.1:8050/\n",
      "\n",
      "Dash is running on http://127.0.0.1:8050/\n",
      "\n",
      "Dash is running on http://127.0.0.1:8050/\n",
      "\n",
      "Dash is running on http://127.0.0.1:8050/\n",
      "\n",
      "Dash is running on http://127.0.0.1:8050/\n",
      "\n",
      "Dash is running on http://127.0.0.1:8050/\n",
      "\n",
      "Dash is running on http://127.0.0.1:8050/\n",
      "\n",
      "Dash is running on http://127.0.0.1:8050/\n",
      "\n",
      " * Serving Flask app '__main__' (lazy loading)\n",
      " * Environment: production\n",
      "   WARNING: This is a development server. Do not use it in a production deployment.\n",
      "   Use a production WSGI server instead.\n",
      " * Debug mode: off\n"
     ]
    },
    {
     "name": "stderr",
     "output_type": "stream",
     "text": [
      " * Running on http://127.0.0.1:8050/ (Press CTRL+C to quit)\n",
      "127.0.0.1 - - [15/Jan/2022 06:14:28] \"GET / HTTP/1.1\" 200 -\n",
      "127.0.0.1 - - [15/Jan/2022 06:14:28] \"GET /_dash-layout HTTP/1.1\" 200 -\n",
      "127.0.0.1 - - [15/Jan/2022 06:14:28] \"GET /_dash-dependencies HTTP/1.1\" 200 -\n",
      "127.0.0.1 - - [15/Jan/2022 06:14:28] \"GET /_favicon.ico?v=2.0.0 HTTP/1.1\" 200 -\n",
      "127.0.0.1 - - [15/Jan/2022 06:14:28] \"GET /_dash-component-suites/dash/dcc/async-dropdown.js HTTP/1.1\" 200 -\n",
      "127.0.0.1 - - [15/Jan/2022 06:14:28] \"GET /_dash-component-suites/dash/dcc/async-slider.js HTTP/1.1\" 200 -\n"
     ]
    }
   ],
   "source": [
    "app = dash.Dash()\n",
    "\n",
    "app.layout = html.Div([\n",
    "    \n",
    "    html.Label('Dropdown'),\n",
    "    dcc.Dropdown(options=[{'label':'New York City',\n",
    "                           'value': 'NYC'},\n",
    "                          {'label':'South Shields',\n",
    "                           'value': 'SS'}],\n",
    "                 value='SS'),\n",
    "    \n",
    "    html.Label('Slider'),\n",
    "    dcc.Slider(min=-10, max=11, step=1, value=0,\n",
    "               marks={i: i for i in range(-10,11)}),\n",
    "    \n",
    "    html.P(html.Label('Radio')),\n",
    "    dcc.RadioItems(options=[{'label':'New York City',\n",
    "                           'value': 'NYC'},\n",
    "                          {'label':'South Shields',\n",
    "                           'value': 'SS'}],\n",
    "                  value='SS')\n",
    "])\n",
    "\n",
    "\n",
    "\n",
    "if __name__ == '__main__':\n",
    "    app.run_server()"
   ]
  },
  {
   "cell_type": "code",
   "execution_count": null,
   "id": "patent-framing",
   "metadata": {},
   "outputs": [],
   "source": []
  }
 ],
 "metadata": {
  "kernelspec": {
   "display_name": "Python 3",
   "language": "python",
   "name": "python3"
  },
  "language_info": {
   "codemirror_mode": {
    "name": "ipython",
    "version": 3
   },
   "file_extension": ".py",
   "mimetype": "text/x-python",
   "name": "python",
   "nbconvert_exporter": "python",
   "pygments_lexer": "ipython3",
   "version": "3.9.2"
  }
 },
 "nbformat": 4,
 "nbformat_minor": 5
}
