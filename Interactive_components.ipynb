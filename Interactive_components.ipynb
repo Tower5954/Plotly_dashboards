{
 "cells": [
  {
   "cell_type": "markdown",
   "id": "conceptual-optics",
   "metadata": {},
   "source": [
    "# Dash Callbacks"
   ]
  },
  {
   "cell_type": "markdown",
   "id": "incoming-banks",
   "metadata": {},
   "source": [
    "Steps to create a callback for interactions:\n",
    "* Create a function to return some desired output.\n",
    "* Decorate that function with an **@app.callback** decorator.\n",
    "    * Set an Output to a component id.\n",
    "    * Set an Input to a component id.\n",
    "* Connect the desired properties."
   ]
  },
  {
   "cell_type": "code",
   "execution_count": 1,
   "id": "younger-twins",
   "metadata": {},
   "outputs": [],
   "source": [
    "import dash\n",
    "from dash import dcc, html\n",
    "from dash.dependencies import Input, Output \n",
    "import pandas as pd\n",
    "import plotly.graph_objs as go"
   ]
  },
  {
   "cell_type": "code",
   "execution_count": null,
   "id": "brief-wesley",
   "metadata": {},
   "outputs": [
    {
     "name": "stdout",
     "output_type": "stream",
     "text": [
      "Dash is running on http://127.0.0.1:8050/\n",
      "\n",
      " * Serving Flask app '__main__' (lazy loading)\n",
      " * Environment: production\n",
      "   WARNING: This is a development server. Do not use it in a production deployment.\n",
      "   Use a production WSGI server instead.\n",
      " * Debug mode: off\n"
     ]
    },
    {
     "name": "stderr",
     "output_type": "stream",
     "text": [
      " * Running on http://127.0.0.1:8050/ (Press CTRL+C to quit)\n"
     ]
    }
   ],
   "source": [
    "app = dash.Dash()\n",
    "\n",
    "app.layout = html.Div([\n",
    "    dcc.Input(id='my-id', value='Initial Text', type='text'),\n",
    "    html.Div(id='my-div', style={'border':'2px blue solid'})\n",
    "])\n",
    "\n",
    "\n",
    "if __name__ == '__main__':\n",
    "    app.run_server()"
   ]
  },
  {
   "cell_type": "markdown",
   "id": "copyrighted-alaska",
   "metadata": {},
   "source": [
    "### Connecting through a callback\n",
    "\n",
    "**Adding a callback to one component**\n",
    "\n",
    "\n",
    "For this exercise we’ll add a callback to an input box, and display the data being entered as an immediate output on the same screen."
   ]
  },
  {
   "cell_type": "code",
   "execution_count": null,
   "id": "joint-reynolds",
   "metadata": {},
   "outputs": [],
   "source": [
    "app = dash.Dash()\n",
    "\n",
    "app.layout = html.Div([\n",
    "    dcc.Input(id='my-id', value='Initial Text', type='text'),\n",
    "    html.Div(id='my-div', style={'border':'2px blue solid'})\n",
    "])\n",
    "\n",
    "\n",
    "@app.callback(Output(component_id='my-div', component_property='children'),\n",
    "             [Input(component_id='my-id', component_property='value')])\n",
    "def update_output_div(input_value):\n",
    "    return(f\"You entered: {input_value}\")\n",
    "\n",
    "\n",
    "\n",
    "\n",
    "if __name__ == '__main__':\n",
    "    app.run_server()\n",
    "    \n",
    "    \n",
    "    \n",
    "    "
   ]
  },
  {
   "cell_type": "markdown",
   "id": "second-somewhere",
   "metadata": {},
   "source": [
    "Let's break down what's happening here:\n",
    "\n",
    "1. We set up our dcc.Input in the usual way, except that we assigned an id to it, and added another Div after it with an assigned id ('my-id' and 'my-div' respectively)\n",
    "2. app.callback is called as a decorator function over update_output_div. The \"inputs\" and \"outputs\" of our application interface are described declaratively through the app.callback decorator.\n",
    "    For more on Python decorators visit https://en.wikipedia.org/wiki/Python_syntax_and_semantics#Decorators \n",
    "3. Inside @app.callback, Output and Input are abbreviated forms of dash.dependencies.Output and dash.dependencies.Input. Note how we imported them from dash.dependencies by name.\n",
    "4. In Dash, the inputs and outputs of our application are simply the properties of a particular component. \n",
    "    In this example, our input is the \"value\" property of the component that has the ID \"my-id\". \n",
    "    Our output is the \"children\" property of the component with the ID \"my-div\".\n",
    "5. Whenever an input property changes, the function that the callback decorator wraps will get called automatically. Dash provides the function with the new value of the input property as an input argument and Dash updates the property of the output component with whatever was returned by the function.\n",
    "6. The component_id and component_property keywords inside Output and Input are optional (there are only two arguments for each of those objects). We included them here for clarity but we’ll omit them from here on out for brevity and readability.\n",
    "7. Don't confuse the dash.dependencies.Input object inside app.callback from the dash_core_components.Input object inside app.layout. The former is just used in these callbacks and the latter is an actual component.\n",
    "8. Notice how we don't set a value for the children property of the my-div component in the layout. When the Dash app starts, it automatically calls all of the callbacks with the initial values of the input components in order to populate the initial state of the output components. In this example, if you specified something like html.Div(id='my-div', children='Hello world'), it would get overwritten when the app starts.\n",
    "\n",
    "\n",
    "It's sort of like programming with Microsoft Excel: whenever an input cell changes, all of the cells that depend on that cell will get updated automatically. This is called \"Reactive Programming\".\n",
    "Remember how every component was described entirely through its set of keyword arguments? Those properties are important now. With Dash interactivity, we can dynamically update any of those properties through a callback function. Frequently we'll update the children of an html component to display new text or the figure of a dcc.Graph component to display new data, but we could also update the style of a component or even the available options of a dcc.Dropdown component!\n"
   ]
  },
  {
   "cell_type": "markdown",
   "id": "stainless-unemployment",
   "metadata": {},
   "source": [
    "### Connecting two components with callbacks\n",
    "\n",
    "The next example comes from the Dash online tutorial, and it’s fairly complex. It introduces some layout features we haven’t seen before, like a logarithmic x-axis. The goal is to have an interactive Slider update a Graph on the same page. We will use a Dash dataset available online at https://raw.githubusercontent.com/plotly/datasets/master/gapminderDataFiveYear.csv \n",
    "\n"
   ]
  },
  {
   "cell_type": "code",
   "execution_count": null,
   "id": "familiar-judge",
   "metadata": {},
   "outputs": [],
   "source": [
    "df = pd.read_csv('gapminderDataFiveYear.csv')\n",
    " \n",
    "app = dash.Dash()\n",
    " \n",
    " \n",
    "# https://dash.plot.ly/dash-core-components/dropdown\n",
    "# We need to construct a dictionary of dropdown values for the years\n",
    "year_options = []\n",
    "for year in df['year'].unique():\n",
    "    year_options.append({'label':str(year),'value':year})\n",
    " \n",
    "app.layout = html.Div([\n",
    "    dcc.Graph(id='graph-with-slider'),\n",
    "    dcc.Dropdown(id='year-picker',options=year_options,value=df['year'].min())\n",
    "])\n",
    " \n",
    "@app.callback(Output('graph-with-slider', 'figure'),\n",
    "              [Input('year-picker', 'value')])\n",
    "def update_figure(selected_year):\n",
    "    filtered_df = df[df['year'] == selected_year]\n",
    "    traces = []\n",
    "    for continent_name in filtered_df['continent'].unique():\n",
    "        df_by_continent = filtered_df[filtered_df['continent'] == continent_name]\n",
    "        traces.append(go.Scatter(\n",
    "            x=df_by_continent['gdpPercap'],\n",
    "            y=df_by_continent['lifeExp'],\n",
    "            text=df_by_continent['country'],\n",
    "            mode='markers',\n",
    "            opacity=0.7,\n",
    "            marker={'size': 15},\n",
    "            name=continent_name\n",
    "        ))\n",
    " \n",
    "    return {\n",
    "        'data': traces,\n",
    "        'layout': go.Layout(\n",
    "            xaxis={'type': 'log', 'title': 'GDP Per Capita'},\n",
    "            yaxis={'title': 'Life Expectancy'},\n",
    "            hovermode='closest'\n",
    "        )\n",
    "    }\n",
    " \n",
    "if __name__ == '__main__':\n",
    "    app.run_server()\n"
   ]
  },
  {
   "cell_type": "markdown",
   "id": "cloudy-cloud",
   "metadata": {},
   "source": [
    "## Dash callbacks for graphs"
   ]
  },
  {
   "cell_type": "code",
   "execution_count": 2,
   "id": "ethical-winter",
   "metadata": {},
   "outputs": [
    {
     "name": "stdout",
     "output_type": "stream",
     "text": [
      "       country  year         pop continent  lifeExp   gdpPercap\n",
      "0  Afghanistan  1952   8425333.0      Asia   28.801  779.445314\n",
      "1  Afghanistan  1957   9240934.0      Asia   30.332  820.853030\n",
      "2  Afghanistan  1962  10267083.0      Asia   31.997  853.100710\n",
      "3  Afghanistan  1967  11537966.0      Asia   34.020  836.197138\n",
      "4  Afghanistan  1972  13079460.0      Asia   36.088  739.981106\n"
     ]
    }
   ],
   "source": [
    "df = pd.read_csv('gapminderDataFiveYear.csv')\n",
    "print(df.head())"
   ]
  },
  {
   "cell_type": "code",
   "execution_count": null,
   "id": "married-separate",
   "metadata": {},
   "outputs": [],
   "source": [
    "app = dash.Dash()\n",
    "\n",
    "year_options = []\n",
    "\n",
    "for year in df['year'].unique():\n",
    "    year_options.append({'label': str(year), 'value': year})\n",
    "\n",
    "\n",
    "app.layout = html.Div([\n",
    "    dcc.Graph(id='graph'),\n",
    "    dcc.Dropdown(id='year_picker', options=year_options,\n",
    "                value=df['year'].min())\n",
    "])"
   ]
  }
 ],
 "metadata": {
  "kernelspec": {
   "display_name": "Python 3",
   "language": "python",
   "name": "python3"
  },
  "language_info": {
   "codemirror_mode": {
    "name": "ipython",
    "version": 3
   },
   "file_extension": ".py",
   "mimetype": "text/x-python",
   "name": "python",
   "nbconvert_exporter": "python",
   "pygments_lexer": "ipython3",
   "version": "3.9.2"
  }
 },
 "nbformat": 4,
 "nbformat_minor": 5
}
