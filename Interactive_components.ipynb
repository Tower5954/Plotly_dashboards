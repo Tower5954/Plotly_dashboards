{
 "cells": [
  {
   "cell_type": "markdown",
   "id": "honey-copying",
   "metadata": {},
   "source": [
    "# Dash Callbacks"
   ]
  },
  {
   "cell_type": "markdown",
   "id": "cardiac-syria",
   "metadata": {},
   "source": [
    "Steps to create a callback for interactions:\n",
    "* Create a function to return some desired output.\n",
    "* Decorate that function with an **@app.callback** decorator.\n",
    "    * Set an Output to a component id.\n",
    "    * Set an Input to a component id.\n",
    "* Connect the desired properties."
   ]
  },
  {
   "cell_type": "code",
   "execution_count": null,
   "id": "silent-easter",
   "metadata": {},
   "outputs": [],
   "source": []
  }
 ],
 "metadata": {
  "kernelspec": {
   "display_name": "Python 3",
   "language": "python",
   "name": "python3"
  },
  "language_info": {
   "codemirror_mode": {
    "name": "ipython",
    "version": 3
   },
   "file_extension": ".py",
   "mimetype": "text/x-python",
   "name": "python",
   "nbconvert_exporter": "python",
   "pygments_lexer": "ipython3",
   "version": "3.9.2"
  }
 },
 "nbformat": 4,
 "nbformat_minor": 5
}
