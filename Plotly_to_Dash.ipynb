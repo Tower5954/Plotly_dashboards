{
 "cells": [
  {
   "cell_type": "markdown",
   "id": "considered-masters",
   "metadata": {},
   "source": [
    "# Converting simple Plotly plot to Dashboard with Dash. "
   ]
  },
  {
   "cell_type": "code",
   "execution_count": 3,
   "id": "transsexual-blank",
   "metadata": {},
   "outputs": [],
   "source": [
    "import dash\n",
    "from dash import dcc\n",
    "from dash import html\n",
    "import plotly.graph_objects as go\n",
    "import numpy as np"
   ]
  },
  {
   "cell_type": "code",
   "execution_count": 4,
   "id": "serial-spokesman",
   "metadata": {},
   "outputs": [],
   "source": [
    "app = dash.Dash()\n",
    "\n"
   ]
  },
  {
   "cell_type": "markdown",
   "id": "manual-diagnosis",
   "metadata": {},
   "source": [
    "### Creating data"
   ]
  },
  {
   "cell_type": "code",
   "execution_count": 5,
   "id": "covered-judge",
   "metadata": {},
   "outputs": [],
   "source": [
    "np.random.seed(42)\n",
    "random_x = np.random.randint(1,101,100)\n",
    "random_y = np.random.randint(1,101,100)"
   ]
  },
  {
   "cell_type": "markdown",
   "id": "clinical-account",
   "metadata": {},
   "source": [
    "### Creating the graph"
   ]
  },
  {
   "cell_type": "code",
   "execution_count": 6,
   "id": "listed-registrar",
   "metadata": {},
   "outputs": [
    {
     "name": "stdout",
     "output_type": "stream",
     "text": [
      "Dash is running on http://127.0.0.1:8050/\n",
      "\n",
      " * Serving Flask app '__main__' (lazy loading)\n",
      " * Environment: production\n",
      "   WARNING: This is a development server. Do not use it in a production deployment.\n",
      "   Use a production WSGI server instead.\n",
      " * Debug mode: off\n"
     ]
    },
    {
     "name": "stderr",
     "output_type": "stream",
     "text": [
      " * Running on http://127.0.0.1:8050/ (Press CTRL+C to quit)\n",
      "127.0.0.1 - - [15/Jan/2022 01:19:18] \"GET / HTTP/1.1\" 200 -\n",
      "127.0.0.1 - - [15/Jan/2022 01:19:18] \"GET /_dash-dependencies HTTP/1.1\" 200 -\n",
      "127.0.0.1 - - [15/Jan/2022 01:19:18] \"GET /_dash-layout HTTP/1.1\" 200 -\n",
      "127.0.0.1 - - [15/Jan/2022 01:19:18] \"GET /_dash-component-suites/dash/dcc/async-graph.js HTTP/1.1\" 200 -\n",
      "127.0.0.1 - - [15/Jan/2022 01:19:18] \"GET /_dash-component-suites/dash/dcc/async-plotlyjs.js HTTP/1.1\" 200 -\n"
     ]
    }
   ],
   "source": [
    "app.layout = html.Div([dcc.Graph(id='scatterplot',\n",
    "                                 figure={'data':[\n",
    "                                     go.Scatter(\n",
    "                                         x=random_x, y=random_y, mode='markers')],\n",
    "                                         'layout':go.Layout(title='My Scatterplot'),}\n",
    "                                )])\n",
    "\n",
    "\n",
    "if __name__ == '__main__':\n",
    "    app.run_server()"
   ]
  },
  {
   "cell_type": "markdown",
   "id": "upset-victory",
   "metadata": {},
   "source": [
    "### Customise"
   ]
  },
  {
   "cell_type": "code",
   "execution_count": 7,
   "id": "conscious-gregory",
   "metadata": {},
   "outputs": [
    {
     "name": "stdout",
     "output_type": "stream",
     "text": [
      "Dash is running on http://127.0.0.1:8050/\n",
      "\n",
      " * Serving Flask app '__main__' (lazy loading)\n",
      " * Environment: production\n",
      "   WARNING: This is a development server. Do not use it in a production deployment.\n",
      "   Use a production WSGI server instead.\n",
      " * Debug mode: off\n"
     ]
    },
    {
     "name": "stderr",
     "output_type": "stream",
     "text": [
      " * Running on http://127.0.0.1:8050/ (Press CTRL+C to quit)\n",
      "127.0.0.1 - - [15/Jan/2022 04:08:50] \"GET / HTTP/1.1\" 200 -\n",
      "127.0.0.1 - - [15/Jan/2022 04:08:50] \"GET /_dash-layout HTTP/1.1\" 200 -\n",
      "127.0.0.1 - - [15/Jan/2022 04:08:50] \"GET /_dash-dependencies HTTP/1.1\" 200 -\n",
      "127.0.0.1 - - [15/Jan/2022 04:08:50] \"GET /_dash-component-suites/dash/dcc/async-graph.js HTTP/1.1\" 200 -\n",
      "127.0.0.1 - - [15/Jan/2022 04:08:50] \"GET /_dash-component-suites/dash/dcc/async-plotlyjs.js HTTP/1.1\" 200 -\n"
     ]
    }
   ],
   "source": [
    "app.layout = html.Div([dcc.Graph(id='scatterplot',\n",
    "                                 figure={'data':[\n",
    "                                     go.Scatter(\n",
    "                                         x=random_x,\n",
    "                                         y=random_y,\n",
    "                                         mode='markers',\n",
    "                                         marker={\n",
    "                                             'size':12,\n",
    "                                             'color':'rgb(51,204,153)',\n",
    "                                             'symbol':'pentagon',\n",
    "                                             'line':{'width':2}\n",
    "                                         })],\n",
    "                                         \n",
    "                                         \n",
    "                                         'layout':go.Layout(title='My Scatterplot',\n",
    "                                                            xaxis={'title':'X title'},\n",
    "                                                            yaxis={'title':'y title'})}\n",
    "                                )])\n",
    "\n",
    "\n",
    "if __name__ == '__main__':\n",
    "    app.run_server()"
   ]
  },
  {
   "cell_type": "markdown",
   "id": "logical-archives",
   "metadata": {},
   "source": [
    "### Multiple plots"
   ]
  },
  {
   "cell_type": "code",
   "execution_count": 12,
   "id": "wooden-place",
   "metadata": {},
   "outputs": [
    {
     "name": "stdout",
     "output_type": "stream",
     "text": [
      "Dash is running on http://127.0.0.1:8050/\n",
      "\n",
      " * Serving Flask app '__main__' (lazy loading)\n",
      " * Environment: production\n",
      "   WARNING: This is a development server. Do not use it in a production deployment.\n",
      "   Use a production WSGI server instead.\n",
      " * Debug mode: off\n"
     ]
    },
    {
     "name": "stderr",
     "output_type": "stream",
     "text": [
      " * Running on http://127.0.0.1:8050/ (Press CTRL+C to quit)\n",
      "127.0.0.1 - - [15/Jan/2022 04:17:52] \"GET / HTTP/1.1\" 200 -\n",
      "127.0.0.1 - - [15/Jan/2022 04:17:52] \"GET /_dash-layout HTTP/1.1\" 200 -\n",
      "127.0.0.1 - - [15/Jan/2022 04:17:52] \"GET /_dash-dependencies HTTP/1.1\" 200 -\n",
      "127.0.0.1 - - [15/Jan/2022 04:17:52] \"GET /_dash-component-suites/dash/dcc/async-graph.js HTTP/1.1\" 200 -\n",
      "127.0.0.1 - - [15/Jan/2022 04:17:52] \"GET /_dash-component-suites/dash/dcc/async-plotlyjs.js HTTP/1.1\" 200 -\n"
     ]
    }
   ],
   "source": [
    "app.layout = html.Div([dcc.Graph(id='scatterplot',\n",
    "                                 figure={'data':[\n",
    "                                     go.Scatter(\n",
    "                                         x=random_x,\n",
    "                                         y=random_y,\n",
    "                                         mode='markers',\n",
    "                                         marker={\n",
    "                                             'size':12,\n",
    "                                             'color':'rgb(51,204,153)',\n",
    "                                             'symbol':'pentagon',\n",
    "                                             'line':{'width':2}\n",
    "                                         })],\n",
    "                                         \n",
    "                                         \n",
    "                                         'layout':go.Layout(title='My Scatterplot',\n",
    "                                                            xaxis={'title':'X title'},\n",
    "                                                            yaxis={'title':'y title'})}\n",
    "                                ),\n",
    "                       dcc.Graph(id='scatterplot2',\n",
    "                                 figure={'data':[\n",
    "                                     go.Scatter(\n",
    "                                         x=random_x,\n",
    "                                         y=random_y,\n",
    "                                         mode='markers',\n",
    "                                         marker={\n",
    "                                             'size':12,\n",
    "                                             'color':'rgb(153,51,204)',\n",
    "                                             'symbol':'pentagon',\n",
    "                                             'line':{'width':2}\n",
    "                                         })],\n",
    "                                         \n",
    "                                         \n",
    "                                         'layout':go.Layout(title='My Second Scatterplot',\n",
    "                                                            xaxis={'title':'X title'},\n",
    "                                                            yaxis={'title':'y title'})}\n",
    "                                )\n",
    "                      \n",
    "                      \n",
    "                      ])\n",
    "\n",
    "\n",
    "if __name__ == '__main__':\n",
    "    app.run_server()"
   ]
  },
  {
   "cell_type": "markdown",
   "id": "beneficial-above",
   "metadata": {},
   "source": [
    "### Exercise"
   ]
  },
  {
   "cell_type": "code",
   "execution_count": 13,
   "id": "separated-liability",
   "metadata": {},
   "outputs": [],
   "source": [
    "#######\n",
    "# Objective: build a dashboard that imports OldFaithful.csv\n",
    "# from the data directory, and displays a scatterplot.\n",
    "# The field names are:\n",
    "# 'D' = date of recordings in month (in August),\n",
    "# 'X' = duration of the current eruption in minutes (to nearest 0.1 minute),\n",
    "# 'Y' = waiting time until the next eruption in minutes (to nearest minute).\n",
    "######"
   ]
  },
  {
   "cell_type": "code",
   "execution_count": 15,
   "id": "stretch-welding",
   "metadata": {},
   "outputs": [],
   "source": [
    "import pandas as pd"
   ]
  },
  {
   "cell_type": "code",
   "execution_count": 16,
   "id": "biblical-conviction",
   "metadata": {},
   "outputs": [],
   "source": [
    "df = pd.read_csv('OldFaithful.csv')"
   ]
  },
  {
   "cell_type": "code",
   "execution_count": 17,
   "id": "passive-mailing",
   "metadata": {},
   "outputs": [
    {
     "data": {
      "text/html": [
       "<div>\n",
       "<style scoped>\n",
       "    .dataframe tbody tr th:only-of-type {\n",
       "        vertical-align: middle;\n",
       "    }\n",
       "\n",
       "    .dataframe tbody tr th {\n",
       "        vertical-align: top;\n",
       "    }\n",
       "\n",
       "    .dataframe thead th {\n",
       "        text-align: right;\n",
       "    }\n",
       "</style>\n",
       "<table border=\"1\" class=\"dataframe\">\n",
       "  <thead>\n",
       "    <tr style=\"text-align: right;\">\n",
       "      <th></th>\n",
       "      <th>D</th>\n",
       "      <th>Y</th>\n",
       "      <th>X</th>\n",
       "    </tr>\n",
       "  </thead>\n",
       "  <tbody>\n",
       "    <tr>\n",
       "      <th>0</th>\n",
       "      <td>1</td>\n",
       "      <td>78</td>\n",
       "      <td>4.4</td>\n",
       "    </tr>\n",
       "    <tr>\n",
       "      <th>1</th>\n",
       "      <td>1</td>\n",
       "      <td>74</td>\n",
       "      <td>3.9</td>\n",
       "    </tr>\n",
       "    <tr>\n",
       "      <th>2</th>\n",
       "      <td>1</td>\n",
       "      <td>68</td>\n",
       "      <td>4.0</td>\n",
       "    </tr>\n",
       "    <tr>\n",
       "      <th>3</th>\n",
       "      <td>1</td>\n",
       "      <td>76</td>\n",
       "      <td>4.0</td>\n",
       "    </tr>\n",
       "    <tr>\n",
       "      <th>4</th>\n",
       "      <td>1</td>\n",
       "      <td>80</td>\n",
       "      <td>3.5</td>\n",
       "    </tr>\n",
       "  </tbody>\n",
       "</table>\n",
       "</div>"
      ],
      "text/plain": [
       "   D   Y    X\n",
       "0  1  78  4.4\n",
       "1  1  74  3.9\n",
       "2  1  68  4.0\n",
       "3  1  76  4.0\n",
       "4  1  80  3.5"
      ]
     },
     "execution_count": 17,
     "metadata": {},
     "output_type": "execute_result"
    }
   ],
   "source": [
    "df.head()"
   ]
  },
  {
   "cell_type": "code",
   "execution_count": 18,
   "id": "varying-ribbon",
   "metadata": {},
   "outputs": [],
   "source": [
    "app = dash.Dash()\n",
    "\n",
    "x_values = df['X']\n",
    "y_values = df['Y']"
   ]
  },
  {
   "cell_type": "code",
   "execution_count": 20,
   "id": "funded-contrast",
   "metadata": {},
   "outputs": [
    {
     "name": "stdout",
     "output_type": "stream",
     "text": [
      "Dash is running on http://127.0.0.1:8050/\n",
      "\n",
      "Dash is running on http://127.0.0.1:8050/\n",
      "\n",
      " * Serving Flask app '__main__' (lazy loading)\n",
      " * Environment: production\n",
      "   WARNING: This is a development server. Do not use it in a production deployment.\n",
      "   Use a production WSGI server instead.\n",
      " * Debug mode: off\n"
     ]
    },
    {
     "name": "stderr",
     "output_type": "stream",
     "text": [
      " * Running on http://127.0.0.1:8050/ (Press CTRL+C to quit)\n",
      "127.0.0.1 - - [15/Jan/2022 04:40:15] \"GET / HTTP/1.1\" 200 -\n",
      "127.0.0.1 - - [15/Jan/2022 04:40:15] \"GET /_dash-layout HTTP/1.1\" 200 -\n",
      "127.0.0.1 - - [15/Jan/2022 04:40:15] \"GET /_dash-dependencies HTTP/1.1\" 200 -\n",
      "127.0.0.1 - - [15/Jan/2022 04:40:15] \"GET /_dash-component-suites/dash/dcc/async-graph.js HTTP/1.1\" 200 -\n",
      "127.0.0.1 - - [15/Jan/2022 04:40:15] \"GET /_dash-component-suites/dash/dcc/async-plotlyjs.js HTTP/1.1\" 200 -\n"
     ]
    }
   ],
   "source": [
    "app.layout = html.Div([dcc.Graph(id='scatterplot',\n",
    "                                 figure={'data':[\n",
    "                                     go.Scatter(\n",
    "                                         x=x_values,\n",
    "                                         y=y_values,\n",
    "                                         mode='markers',\n",
    "                                         marker={\n",
    "                                             'size':12,\n",
    "                                             'color':'rgb(51,204,153)',\n",
    "                                             'line':{'width':2}\n",
    "                                         })],\n",
    "                                         \n",
    "                                         \n",
    "                                         'layout':go.Layout(title='Old Faithful eruption Intervals Vs Duration',\n",
    "                                                            xaxis={'title':'Duration of the current eruption in minutes (to nearest 0.1 minute).'},\n",
    "                                                            yaxis={'title':'Interval until next eruption'})}\n",
    "                                )])\n",
    "\n",
    "\n",
    "if __name__ == '__main__':\n",
    "    app.run_server()"
   ]
  },
  {
   "cell_type": "code",
   "execution_count": null,
   "id": "attractive-hungarian",
   "metadata": {},
   "outputs": [],
   "source": []
  }
 ],
 "metadata": {
  "kernelspec": {
   "display_name": "Python 3",
   "language": "python",
   "name": "python3"
  },
  "language_info": {
   "codemirror_mode": {
    "name": "ipython",
    "version": 3
   },
   "file_extension": ".py",
   "mimetype": "text/x-python",
   "name": "python",
   "nbconvert_exporter": "python",
   "pygments_lexer": "ipython3",
   "version": "3.9.2"
  }
 },
 "nbformat": 4,
 "nbformat_minor": 5
}
