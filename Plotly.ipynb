{
 "cells": [
  {
   "cell_type": "markdown",
   "id": "accompanied-music",
   "metadata": {},
   "source": [
    "# Plotly basics"
   ]
  },
  {
   "cell_type": "markdown",
   "id": "swiss-cinema",
   "metadata": {},
   "source": [
    "## Scatter plots"
   ]
  },
  {
   "cell_type": "markdown",
   "id": "stone-elevation",
   "metadata": {},
   "source": [
    "Scatter plots allow the comparison of two variables for a set of data.\n",
    "\n",
    "Depending on the trend of the scatter points, we could interpret a correlation."
   ]
  },
  {
   "cell_type": "code",
   "execution_count": 2,
   "id": "freelance-violin",
   "metadata": {},
   "outputs": [],
   "source": [
    "import numpy as np\n",
    "import plotly.offline as pyo\n",
    "import plotly.graph_objs as go"
   ]
  },
  {
   "cell_type": "code",
   "execution_count": 5,
   "id": "later-grocery",
   "metadata": {},
   "outputs": [],
   "source": [
    "np.random.seed(42)"
   ]
  },
  {
   "cell_type": "code",
   "execution_count": 6,
   "id": "adverse-charge",
   "metadata": {},
   "outputs": [],
   "source": [
    "random_x = np.random.randint(1,101,100)\n",
    "random_y = np.random.randint(1,101,100)"
   ]
  },
  {
   "cell_type": "code",
   "execution_count": 12,
   "id": "bottom-printing",
   "metadata": {},
   "outputs": [],
   "source": [
    "data = [go.Scatter(x=random_x, \n",
    "                   y=random_y,\n",
    "                   mode='markers',\n",
    "                   marker=dict(\n",
    "                       size=12,\n",
    "                       color='rgb(51,204,153)',\n",
    "                       symbol='pentagon',\n",
    "                       line={'width':2}\n",
    "                   ))]\n",
    "\n",
    "\n",
    "layout = go.Layout(title ='Hello first plot', \n",
    "                   xaxis = {'title':'my x axis'},     # either way is good\n",
    "                   yaxis = dict(title = 'my y axis'), # either way is good\n",
    "                   hovermode = 'closest'\n",
    "                   )\n",
    "\n",
    "fig = go.Figure(data=data, layout=layout)"
   ]
  },
  {
   "cell_type": "code",
   "execution_count": 13,
   "id": "verbal-pearl",
   "metadata": {},
   "outputs": [
    {
     "data": {
      "text/plain": [
       "'scatter.html'"
      ]
     },
     "execution_count": 13,
     "metadata": {},
     "output_type": "execute_result"
    }
   ],
   "source": [
    "pyo.plot(fig,filename='scatter.html')"
   ]
  },
  {
   "cell_type": "markdown",
   "id": "social-option",
   "metadata": {},
   "source": [
    "## Line charts "
   ]
  },
  {
   "cell_type": "markdown",
   "id": "interracial-gallery",
   "metadata": {},
   "source": [
    "Often used to visualise a trend in data over intervals of time - known as a time series."
   ]
  },
  {
   "cell_type": "code",
   "execution_count": 5,
   "id": "acute-participant",
   "metadata": {},
   "outputs": [
    {
     "data": {
      "text/plain": [
       "'temp-plot.html'"
      ]
     },
     "execution_count": 5,
     "metadata": {},
     "output_type": "execute_result"
    }
   ],
   "source": [
    "np.random.seed(56)\n",
    "\n",
    "x_values = np.linspace(0, 1, 100)\n",
    "y_values = np.random.randn(100)\n",
    "\n",
    "\n",
    "trace0 = go.Scatter(x=x_values, y=y_values+5, \n",
    "                   mode='markers', name='markers')\n",
    "\n",
    "trace1 = go.Scatter(x=x_values, y=y_values,\n",
    "                    mode='lines', name='mylines')\n",
    "\n",
    "trace2 = go.Scatter(x=x_values, y=y_values-5,\n",
    "                    mode='lines+markers', name='lines+markers')\n",
    "\n",
    "data = [trace0, trace1, trace2]\n",
    "\n",
    "layout = go.Layout(title='Line Charts')\n",
    "\n",
    "fig = go.Figure(data=data, layout=layout)\n",
    "\n",
    "pyo.plot(fig)"
   ]
  },
  {
   "cell_type": "code",
   "execution_count": null,
   "id": "aggressive-saudi",
   "metadata": {},
   "outputs": [],
   "source": []
  }
 ],
 "metadata": {
  "kernelspec": {
   "display_name": "Python 3",
   "language": "python",
   "name": "python3"
  },
  "language_info": {
   "codemirror_mode": {
    "name": "ipython",
    "version": 3
   },
   "file_extension": ".py",
   "mimetype": "text/x-python",
   "name": "python",
   "nbconvert_exporter": "python",
   "pygments_lexer": "ipython3",
   "version": "3.9.2"
  }
 },
 "nbformat": 4,
 "nbformat_minor": 5
}
