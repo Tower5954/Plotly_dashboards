{
 "cells": [
  {
   "cell_type": "markdown",
   "id": "popular-bruce",
   "metadata": {},
   "source": [
    "# Plotly basics"
   ]
  },
  {
   "cell_type": "markdown",
   "id": "numeric-whole",
   "metadata": {},
   "source": [
    "## Scatter plots"
   ]
  },
  {
   "cell_type": "markdown",
   "id": "focal-performance",
   "metadata": {},
   "source": [
    "Scatter plots allow the comparison of two variables for a set of data.\n",
    "\n",
    "Depending on the trend of the scatter points, we could interpret a correlation."
   ]
  },
  {
   "cell_type": "code",
   "execution_count": 1,
   "id": "specialized-daisy",
   "metadata": {},
   "outputs": [],
   "source": [
    "import numpy as np\n",
    "import pandas as pd\n",
    "import plotly.offline as pyo\n",
    "import plotly.graph_objs as go"
   ]
  },
  {
   "cell_type": "code",
   "execution_count": 5,
   "id": "hybrid-dover",
   "metadata": {},
   "outputs": [],
   "source": [
    "np.random.seed(42)"
   ]
  },
  {
   "cell_type": "code",
   "execution_count": 6,
   "id": "thick-saturn",
   "metadata": {},
   "outputs": [],
   "source": [
    "random_x = np.random.randint(1,101,100)\n",
    "random_y = np.random.randint(1,101,100)"
   ]
  },
  {
   "cell_type": "code",
   "execution_count": 12,
   "id": "blind-outdoors",
   "metadata": {},
   "outputs": [],
   "source": [
    "data = [go.Scatter(x=random_x, \n",
    "                   y=random_y,\n",
    "                   mode='markers',\n",
    "                   marker=dict(\n",
    "                       size=12,\n",
    "                       color='rgb(51,204,153)',\n",
    "                       symbol='pentagon',\n",
    "                       line={'width':2}\n",
    "                   ))]\n",
    "\n",
    "\n",
    "layout = go.Layout(title ='Hello first plot', \n",
    "                   xaxis = {'title':'my x axis'},     # either way is good\n",
    "                   yaxis = dict(title = 'my y axis'), # either way is good\n",
    "                   hovermode = 'closest'\n",
    "                   )\n",
    "\n",
    "fig = go.Figure(data=data, layout=layout)"
   ]
  },
  {
   "cell_type": "code",
   "execution_count": 13,
   "id": "fifteen-warren",
   "metadata": {},
   "outputs": [
    {
     "data": {
      "text/plain": [
       "'scatter.html'"
      ]
     },
     "execution_count": 13,
     "metadata": {},
     "output_type": "execute_result"
    }
   ],
   "source": [
    "pyo.plot(fig,filename='scatter.html')"
   ]
  },
  {
   "cell_type": "markdown",
   "id": "vanilla-brake",
   "metadata": {},
   "source": [
    "## Line charts "
   ]
  },
  {
   "cell_type": "markdown",
   "id": "surface-territory",
   "metadata": {},
   "source": [
    "Often used to visualise a trend in data over intervals of time - known as a time series."
   ]
  },
  {
   "cell_type": "code",
   "execution_count": 5,
   "id": "frequent-rainbow",
   "metadata": {},
   "outputs": [
    {
     "data": {
      "text/plain": [
       "'temp-plot.html'"
      ]
     },
     "execution_count": 5,
     "metadata": {},
     "output_type": "execute_result"
    }
   ],
   "source": [
    "np.random.seed(56)\n",
    "\n",
    "x_values = np.linspace(0, 1, 100)\n",
    "y_values = np.random.randn(100)\n",
    "\n",
    "\n",
    "trace0 = go.Scatter(x=x_values, y=y_values+5, \n",
    "                   mode='markers', name='markers')\n",
    "\n",
    "trace1 = go.Scatter(x=x_values, y=y_values,\n",
    "                    mode='lines', name='mylines')\n",
    "\n",
    "trace2 = go.Scatter(x=x_values, y=y_values-5,\n",
    "                    mode='lines+markers', name='lines+markers')\n",
    "\n",
    "data = [trace0, trace1, trace2]\n",
    "\n",
    "layout = go.Layout(title='Line Charts')\n",
    "\n",
    "fig = go.Figure(data=data, layout=layout)\n",
    "\n",
    "pyo.plot(fig)"
   ]
  },
  {
   "cell_type": "code",
   "execution_count": 2,
   "id": "ruled-folder",
   "metadata": {},
   "outputs": [],
   "source": [
    "df = pd.read_csv('nst-est2017.csv')"
   ]
  },
  {
   "cell_type": "code",
   "execution_count": 3,
   "id": "lasting-naples",
   "metadata": {},
   "outputs": [
    {
     "name": "stdout",
     "output_type": "stream",
     "text": [
      "   SUMLEV REGION DIVISION  STATE              NAME  CENSUS2010POP  \\\n",
      "0    10.0      0        0    0.0     United States    308745538.0   \n",
      "1    20.0      1        0    0.0  Northeast Region     55317240.0   \n",
      "2    20.0      2        0    0.0    Midwest Region     66927001.0   \n",
      "3    20.0      3        0    0.0      South Region    114555744.0   \n",
      "4    20.0      4        0    0.0       West Region     71945553.0   \n",
      "\n",
      "   ESTIMATESBASE2010  POPESTIMATE2010  POPESTIMATE2011  POPESTIMATE2012  ...  \\\n",
      "0        308758105.0      309338421.0      311644280.0      313993272.0  ...   \n",
      "1         55318350.0       55388349.0       55642659.0       55860261.0  ...   \n",
      "2         66929794.0       66973360.0       67141501.0       67318295.0  ...   \n",
      "3        114563024.0      114869241.0      116060993.0      117291728.0  ...   \n",
      "4         71946937.0       72107471.0       72799127.0       73522988.0  ...   \n",
      "\n",
      "   RDOMESTICMIG2015  RDOMESTICMIG2016  RDOMESTICMIG2017  RNETMIG2011  \\\n",
      "0          0.000000          0.000000          0.000000     2.720900   \n",
      "1         -6.103092         -6.619089         -5.559570     1.467950   \n",
      "2         -3.458531         -3.307295         -2.304640    -1.187519   \n",
      "3          3.788037          3.592695          2.900528     5.544289   \n",
      "4          1.613450          2.099001          1.475519     2.798796   \n",
      "\n",
      "   RNETMIG2012  RNETMIG2013  RNETMIG2014  RNETMIG2015  RNETMIG2016  \\\n",
      "0     2.920371     2.883643     3.173228     3.516743     3.513394   \n",
      "1     0.779137     0.605873    -0.082832    -0.903931    -1.307503   \n",
      "2    -1.010696    -0.120354    -0.752477    -1.323952    -1.160735   \n",
      "3     5.831747     5.362083     6.317310     7.336162     7.113818   \n",
      "4     3.521423     3.396627     4.163576     5.067452     5.488965   \n",
      "\n",
      "   RNETMIG2017  \n",
      "0     3.423941  \n",
      "1    -0.288930  \n",
      "2    -0.191323  \n",
      "3     6.304010  \n",
      "4     4.737979  \n",
      "\n",
      "[5 rows x 121 columns]\n"
     ]
    }
   ],
   "source": [
    "print(df.head())"
   ]
  },
  {
   "cell_type": "code",
   "execution_count": 4,
   "id": "parallel-lesson",
   "metadata": {},
   "outputs": [],
   "source": [
    "df2 = df[df['DIVISION'] == '1']"
   ]
  },
  {
   "cell_type": "code",
   "execution_count": 6,
   "id": "physical-heading",
   "metadata": {},
   "outputs": [],
   "source": [
    "df2.set_index('NAME', inplace=True)"
   ]
  },
  {
   "cell_type": "code",
   "execution_count": 7,
   "id": "medium-moment",
   "metadata": {},
   "outputs": [],
   "source": [
    "list_of_pop_col = [col for col in df2.columns if col.startswith('POP')]"
   ]
  },
  {
   "cell_type": "code",
   "execution_count": 8,
   "id": "grateful-application",
   "metadata": {},
   "outputs": [],
   "source": [
    "df2 = df2[list_of_pop_col]"
   ]
  },
  {
   "cell_type": "code",
   "execution_count": 9,
   "id": "casual-terminology",
   "metadata": {},
   "outputs": [
    {
     "name": "stdout",
     "output_type": "stream",
     "text": [
      "               POPESTIMATE2010  POPESTIMATE2011  POPESTIMATE2012  \\\n",
      "NAME                                                               \n",
      "Connecticut          3580171.0        3591927.0        3597705.0   \n",
      "Maine                1327568.0        1327968.0        1328101.0   \n",
      "Massachusetts        6564943.0        6612178.0        6659627.0   \n",
      "New Hampshire        1316700.0        1318345.0        1320923.0   \n",
      "Rhode Island         1053169.0        1052154.0        1052761.0   \n",
      "Vermont               625842.0         626210.0         625606.0   \n",
      "\n",
      "               POPESTIMATE2013  POPESTIMATE2014  POPESTIMATE2015  \\\n",
      "NAME                                                               \n",
      "Connecticut          3602470.0        3600188.0        3593862.0   \n",
      "Maine                1327975.0        1328903.0        1327787.0   \n",
      "Massachusetts        6711138.0        6757925.0        6794002.0   \n",
      "New Hampshire        1322622.0        1328684.0        1330134.0   \n",
      "Rhode Island         1052784.0        1054782.0        1055916.0   \n",
      "Vermont               626044.0         625665.0         624455.0   \n",
      "\n",
      "               POPESTIMATE2016  POPESTIMATE2017  \n",
      "NAME                                             \n",
      "Connecticut          3587685.0        3588184.0  \n",
      "Maine                1330232.0        1335907.0  \n",
      "Massachusetts        6823721.0        6859819.0  \n",
      "New Hampshire        1335015.0        1342795.0  \n",
      "Rhode Island         1057566.0        1059639.0  \n",
      "Vermont               623354.0         623657.0  \n"
     ]
    }
   ],
   "source": [
    "print(df2)"
   ]
  },
  {
   "cell_type": "code",
   "execution_count": 10,
   "id": "caroline-florist",
   "metadata": {},
   "outputs": [
    {
     "data": {
      "text/plain": [
       "'temp-plot.html'"
      ]
     },
     "execution_count": 10,
     "metadata": {},
     "output_type": "execute_result"
    }
   ],
   "source": [
    "data = [ go.Scatter(x=df2.columns,\n",
    "                    y=df2.loc[name],\n",
    "                    mode='lines',\n",
    "                    name=name) for name in df2.index]\n",
    "\n",
    "pyo.plot(data)"
   ]
  },
  {
   "cell_type": "markdown",
   "id": "promising-processor",
   "metadata": {},
   "source": [
    "### Line Chart exercise"
   ]
  },
  {
   "cell_type": "code",
   "execution_count": 2,
   "id": "middle-secondary",
   "metadata": {},
   "outputs": [],
   "source": [
    "df = pd.read_csv('2010YumaAZ.csv')"
   ]
  },
  {
   "cell_type": "code",
   "execution_count": 4,
   "id": "advance-contract",
   "metadata": {},
   "outputs": [
    {
     "data": {
      "text/html": [
       "<div>\n",
       "<style scoped>\n",
       "    .dataframe tbody tr th:only-of-type {\n",
       "        vertical-align: middle;\n",
       "    }\n",
       "\n",
       "    .dataframe tbody tr th {\n",
       "        vertical-align: top;\n",
       "    }\n",
       "\n",
       "    .dataframe thead th {\n",
       "        text-align: right;\n",
       "    }\n",
       "</style>\n",
       "<table border=\"1\" class=\"dataframe\">\n",
       "  <thead>\n",
       "    <tr style=\"text-align: right;\">\n",
       "      <th></th>\n",
       "      <th>LST_DATE</th>\n",
       "      <th>DAY</th>\n",
       "      <th>LST_TIME</th>\n",
       "      <th>T_HR_AVG</th>\n",
       "    </tr>\n",
       "  </thead>\n",
       "  <tbody>\n",
       "    <tr>\n",
       "      <th>0</th>\n",
       "      <td>20100601</td>\n",
       "      <td>TUESDAY</td>\n",
       "      <td>0:00</td>\n",
       "      <td>25.2</td>\n",
       "    </tr>\n",
       "    <tr>\n",
       "      <th>1</th>\n",
       "      <td>20100601</td>\n",
       "      <td>TUESDAY</td>\n",
       "      <td>1:00</td>\n",
       "      <td>24.1</td>\n",
       "    </tr>\n",
       "    <tr>\n",
       "      <th>2</th>\n",
       "      <td>20100601</td>\n",
       "      <td>TUESDAY</td>\n",
       "      <td>2:00</td>\n",
       "      <td>24.4</td>\n",
       "    </tr>\n",
       "    <tr>\n",
       "      <th>3</th>\n",
       "      <td>20100601</td>\n",
       "      <td>TUESDAY</td>\n",
       "      <td>3:00</td>\n",
       "      <td>24.9</td>\n",
       "    </tr>\n",
       "    <tr>\n",
       "      <th>4</th>\n",
       "      <td>20100601</td>\n",
       "      <td>TUESDAY</td>\n",
       "      <td>4:00</td>\n",
       "      <td>22.8</td>\n",
       "    </tr>\n",
       "  </tbody>\n",
       "</table>\n",
       "</div>"
      ],
      "text/plain": [
       "   LST_DATE      DAY LST_TIME  T_HR_AVG\n",
       "0  20100601  TUESDAY     0:00      25.2\n",
       "1  20100601  TUESDAY     1:00      24.1\n",
       "2  20100601  TUESDAY     2:00      24.4\n",
       "3  20100601  TUESDAY     3:00      24.9\n",
       "4  20100601  TUESDAY     4:00      22.8"
      ]
     },
     "execution_count": 4,
     "metadata": {},
     "output_type": "execute_result"
    }
   ],
   "source": [
    "df.head()"
   ]
  },
  {
   "cell_type": "code",
   "execution_count": 3,
   "id": "decreased-listening",
   "metadata": {},
   "outputs": [],
   "source": [
    "days = ['TUESDAY','WEDNESDAY','THURSDAY','FRIDAY','SATURDAY','SUNDAY','MONDAY']"
   ]
  },
  {
   "cell_type": "code",
   "execution_count": 17,
   "id": "lightweight-template",
   "metadata": {},
   "outputs": [],
   "source": [
    "data = []\n",
    "\n",
    "for day in days:\n",
    "    x_value = df['LST_TIME']\n",
    "    y_value = df['T_HR_AVG']\n",
    "    \n",
    "    \n",
    "    trace1 = go.Scatter(x=x_value, y=df[df['DAY'] == day]['T_HR_AVG'],\n",
    "                    mode='lines', name = day)\n",
    "                       \n",
    "    data.append(trace1)\n",
    "                       \n",
    "    layout = go.Layout(title='Daily temp averages')\n",
    "     \n",
    "    fig = go.Figure(data=data, layout=layout)\n",
    "\n",
    "    pyo.plot(fig)\n",
    "                       \n",
    "\n",
    "    "
   ]
  },
  {
   "cell_type": "code",
   "execution_count": 18,
   "id": "located-homeless",
   "metadata": {},
   "outputs": [
    {
     "data": {
      "text/plain": [
       "'solution2b.html'"
      ]
     },
     "execution_count": 18,
     "metadata": {},
     "output_type": "execute_result"
    }
   ],
   "source": [
    "# Define a data variable\n",
    "data = [{\n",
    "    'x': df['LST_TIME'],\n",
    "    'y': df[df['DAY']==day]['T_HR_AVG'],\n",
    "    'name': day\n",
    "} for day in df['DAY'].unique()]\n",
    "\n",
    "# Define the layout\n",
    "layout = go.Layout(\n",
    "    title='Daily temperatures from June 1-7, 2010 in Yuma, Arizona',\n",
    "    hovermode='closest'\n",
    ")\n",
    "\n",
    "# Create a fig from data and layout, and plot the fig\n",
    "fig = go.Figure(data=data, layout=layout)\n",
    "pyo.plot(fig, filename='solution2b.html')"
   ]
  },
  {
   "cell_type": "markdown",
   "id": "young-enterprise",
   "metadata": {},
   "source": [
    "## Bar charts"
   ]
  },
  {
   "cell_type": "markdown",
   "id": "geological-catholic",
   "metadata": {},
   "source": [
    "A bar chart presents **categorical data** with rectangular bars with heights (or lengths) proportional to the values that they represent.\n",
    "\n",
    "We will review **categorical data** versus **continuous data**.\n",
    "\n",
    "In general variables and data either represent measurements on some **continuous scale** they represent information about the **categorical or discrete characteristics**.\n",
    "\n",
    "For example, the weight, the height, and the age of respondents in a survey would represent **continuous variables**.\n",
    "\n",
    "However, a persons gender, occupation, or marital status are **categorical or discrete variables**.\n",
    "\n",
    "Using Bar charts, we can visualise categorical data.\n",
    "\n",
    "Typically the x-axis is the categories and the y-axis is the count (number of occurrences) in each category.\n",
    "\n",
    "However the y-axis can be any aggregation (count, sum, average, etc...)."
   ]
  },
  {
   "cell_type": "code",
   "execution_count": 2,
   "id": "emotional-shepherd",
   "metadata": {},
   "outputs": [],
   "source": [
    "df = pd.read_csv('2018WinterOlympics.csv')"
   ]
  },
  {
   "cell_type": "code",
   "execution_count": 3,
   "id": "southwest-crisis",
   "metadata": {},
   "outputs": [
    {
     "name": "stdout",
     "output_type": "stream",
     "text": [
      "   Rank            NOC  Gold  Silver  Bronze  Total\n",
      "0     1         Norway    14      14      11     39\n",
      "1     2        Germany    14      10       7     31\n",
      "2     3         Canada    11       8      10     29\n",
      "3     4  United States     9       8       6     23\n",
      "4     5    Netherlands     8       6       6     20\n"
     ]
    }
   ],
   "source": [
    "print(df.head())"
   ]
  },
  {
   "cell_type": "code",
   "execution_count": 4,
   "id": "convertible-anger",
   "metadata": {},
   "outputs": [
    {
     "data": {
      "text/plain": [
       "'temp-plot.html'"
      ]
     },
     "execution_count": 4,
     "metadata": {},
     "output_type": "execute_result"
    }
   ],
   "source": [
    "data = [go.Bar(x=df['NOC'], y=df['Total'])]\n",
    "layout = go.Layout(title='Medals')\n",
    "fig = go.Figure(data=data, layout=layout)\n",
    "\n",
    "pyo.plot(fig)"
   ]
  },
  {
   "cell_type": "markdown",
   "id": "driving-silence",
   "metadata": {},
   "source": [
    "### Nested Bar Chart"
   ]
  },
  {
   "cell_type": "code",
   "execution_count": 5,
   "id": "entertaining-lexington",
   "metadata": {},
   "outputs": [
    {
     "data": {
      "text/plain": [
       "'temp-plot.html'"
      ]
     },
     "execution_count": 5,
     "metadata": {},
     "output_type": "execute_result"
    }
   ],
   "source": [
    "trace1 = go.Bar(x=df['NOC'], y=df['Gold'],\n",
    "                name='Gold', marker={'color':'#FFD700'})\n",
    "\n",
    "trace2 = go.Bar(x=df['NOC'], y=df['Silver'],\n",
    "                name='Silver', marker={'color':'#9EA0A1'})\n",
    "\n",
    "trace3 = go.Bar(x=df['NOC'], y=df['Bronze'],\n",
    "                name='Bronze', marker={'color':'#CD7F32'})\n",
    "\n",
    "\n",
    "\n",
    "data = [trace1, trace2, trace3]\n",
    "layout = go.Layout(title='Medals')\n",
    "fig = go.Figure(data=data, layout=layout)\n",
    "\n",
    "pyo.plot(fig)"
   ]
  },
  {
   "cell_type": "markdown",
   "id": "mobile-brave",
   "metadata": {},
   "source": [
    "### Stacked"
   ]
  },
  {
   "cell_type": "code",
   "execution_count": 6,
   "id": "accessible-zoning",
   "metadata": {},
   "outputs": [
    {
     "data": {
      "text/plain": [
       "'temp-plot.html'"
      ]
     },
     "execution_count": 6,
     "metadata": {},
     "output_type": "execute_result"
    }
   ],
   "source": [
    "trace1 = go.Bar(x=df['NOC'], y=df['Gold'],\n",
    "                name='Gold', marker={'color':'#FFD700'})\n",
    "\n",
    "trace2 = go.Bar(x=df['NOC'], y=df['Silver'],\n",
    "                name='Silver', marker={'color':'#9EA0A1'})\n",
    "\n",
    "trace3 = go.Bar(x=df['NOC'], y=df['Bronze'],\n",
    "                name='Bronze', marker={'color':'#CD7F32'})\n",
    "\n",
    "\n",
    "\n",
    "data = [trace1, trace2, trace3]\n",
    "layout = go.Layout(title='Medals', barmode='stack')    # ONLY DIFFERENCE\n",
    "fig = go.Figure(data=data, layout=layout)\n",
    "\n",
    "pyo.plot(fig)"
   ]
  },
  {
   "cell_type": "markdown",
   "id": "corresponding-contamination",
   "metadata": {},
   "source": [
    "## Bubble charts"
   ]
  },
  {
   "cell_type": "markdown",
   "id": "analyzed-airline",
   "metadata": {},
   "source": [
    "Bubble charts are very similar to scatter plots, except we now convey a third variable's information through the size of it's marker.\n",
    "\n",
    "We can also continue to add variable information by colouring points based on a category."
   ]
  },
  {
   "cell_type": "code",
   "execution_count": 10,
   "id": "turned-image",
   "metadata": {},
   "outputs": [],
   "source": [
    "df = pd.read_csv('mpg.csv', na_values={'horsepower':'?'})"
   ]
  },
  {
   "cell_type": "code",
   "execution_count": 6,
   "id": "color-battlefield",
   "metadata": {},
   "outputs": [
    {
     "name": "stdout",
     "output_type": "stream",
     "text": [
      "      mpg  cylinders  displacement horsepower  weight  acceleration  \\\n",
      "0    18.0          8         307.0        130    3504          12.0   \n",
      "1    15.0          8         350.0        165    3693          11.5   \n",
      "2    18.0          8         318.0        150    3436          11.0   \n",
      "3    16.0          8         304.0        150    3433          12.0   \n",
      "4    17.0          8         302.0        140    3449          10.5   \n",
      "..    ...        ...           ...        ...     ...           ...   \n",
      "393  27.0          4         140.0         86    2790          15.6   \n",
      "394  44.0          4          97.0         52    2130          24.6   \n",
      "395  32.0          4         135.0         84    2295          11.6   \n",
      "396  28.0          4         120.0         79    2625          18.6   \n",
      "397  31.0          4         119.0         82    2720          19.4   \n",
      "\n",
      "     model_year  origin                       name  \n",
      "0            70       1  chevrolet chevelle malibu  \n",
      "1            70       1          buick skylark 320  \n",
      "2            70       1         plymouth satellite  \n",
      "3            70       1              amc rebel sst  \n",
      "4            70       1                ford torino  \n",
      "..          ...     ...                        ...  \n",
      "393          82       1            ford mustang gl  \n",
      "394          82       2                  vw pickup  \n",
      "395          82       1              dodge rampage  \n",
      "396          82       1                ford ranger  \n",
      "397          82       1                 chevy s-10  \n",
      "\n",
      "[398 rows x 9 columns]\n"
     ]
    }
   ],
   "source": [
    "print(df)"
   ]
  },
  {
   "cell_type": "code",
   "execution_count": 4,
   "id": "convinced-highway",
   "metadata": {},
   "outputs": [
    {
     "name": "stdout",
     "output_type": "stream",
     "text": [
      "Index(['mpg', 'cylinders', 'displacement', 'horsepower', 'weight',\n",
      "       'acceleration', 'model_year', 'origin', 'name'],\n",
      "      dtype='object')\n"
     ]
    }
   ],
   "source": [
    "print(df.columns)"
   ]
  },
  {
   "cell_type": "code",
   "execution_count": 11,
   "id": "irish-efficiency",
   "metadata": {},
   "outputs": [
    {
     "data": {
      "text/plain": [
       "'temp-plot.html'"
      ]
     },
     "execution_count": 11,
     "metadata": {},
     "output_type": "execute_result"
    }
   ],
   "source": [
    "data = [go.Scatter(x=df['horsepower'],\n",
    "                   y=df['mpg'],\n",
    "                   text=df['name'],\n",
    "                   mode='markers',\n",
    "                   marker=dict(size=2*df['cylinders']))]\n",
    "\n",
    "layout = go.Layout(title='Bubble')\n",
    "\n",
    "fig = go.Figure(data=data, layout=layout)\n",
    "\n",
    "pyo.plot(fig)"
   ]
  },
  {
   "cell_type": "code",
   "execution_count": null,
   "id": "automatic-found",
   "metadata": {},
   "outputs": [],
   "source": []
  }
 ],
 "metadata": {
  "hide_input": false,
  "kernelspec": {
   "display_name": "Python 3",
   "language": "python",
   "name": "python3"
  },
  "language_info": {
   "codemirror_mode": {
    "name": "ipython",
    "version": 3
   },
   "file_extension": ".py",
   "mimetype": "text/x-python",
   "name": "python",
   "nbconvert_exporter": "python",
   "pygments_lexer": "ipython3",
   "version": "3.9.2"
  }
 },
 "nbformat": 4,
 "nbformat_minor": 5
}
