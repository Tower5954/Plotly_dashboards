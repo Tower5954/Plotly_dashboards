{
 "cells": [
  {
   "cell_type": "markdown",
   "id": "advance-myanmar",
   "metadata": {},
   "source": [
    "# Scatter plots"
   ]
  },
  {
   "cell_type": "markdown",
   "id": "remarkable-rebound",
   "metadata": {},
   "source": [
    "Scatter plots allow the comparison of two variables for a set of data.\n",
    "\n",
    "Depending on the trend of the scatter points, we could interpret a correlation."
   ]
  },
  {
   "cell_type": "code",
   "execution_count": 4,
   "id": "spatial-subsection",
   "metadata": {},
   "outputs": [],
   "source": [
    "import numpy as np\n",
    "import plotly.offline as pyo\n",
    "import plotly.graph_objs as go"
   ]
  },
  {
   "cell_type": "code",
   "execution_count": 5,
   "id": "editorial-november",
   "metadata": {},
   "outputs": [],
   "source": [
    "np.random.seed(42)"
   ]
  },
  {
   "cell_type": "code",
   "execution_count": 6,
   "id": "broadband-theory",
   "metadata": {},
   "outputs": [],
   "source": [
    "random_x = np.random.randint(1,101,100)\n",
    "random_y = np.random.randint(1,101,100)"
   ]
  },
  {
   "cell_type": "code",
   "execution_count": 12,
   "id": "surface-victor",
   "metadata": {},
   "outputs": [],
   "source": [
    "data = [go.Scatter(x=random_x, \n",
    "                   y=random_y,\n",
    "                   mode='markers',\n",
    "                   marker=dict(\n",
    "                       size=12,\n",
    "                       color='rgb(51,204,153)',\n",
    "                       symbol='pentagon',\n",
    "                       line={'width':2}\n",
    "                   ))]\n",
    "\n",
    "\n",
    "layout = go.Layout(title ='Hello first plot', \n",
    "                   xaxis = {'title':'my x axis'},     # either way is good\n",
    "                   yaxis = dict(title = 'my y axis'), # either way is good\n",
    "                   hovermode = 'closest'\n",
    "                   )\n",
    "\n",
    "fig = go.Figure(data=data, layout=layout)"
   ]
  },
  {
   "cell_type": "code",
   "execution_count": 13,
   "id": "portable-dover",
   "metadata": {},
   "outputs": [
    {
     "data": {
      "text/plain": [
       "'scatter.html'"
      ]
     },
     "execution_count": 13,
     "metadata": {},
     "output_type": "execute_result"
    }
   ],
   "source": [
    "pyo.plot(fig,filename='scatter.html')"
   ]
  },
  {
   "cell_type": "code",
   "execution_count": null,
   "id": "dynamic-sleep",
   "metadata": {},
   "outputs": [],
   "source": []
  }
 ],
 "metadata": {
  "kernelspec": {
   "display_name": "Python 3",
   "language": "python",
   "name": "python3"
  },
  "language_info": {
   "codemirror_mode": {
    "name": "ipython",
    "version": 3
   },
   "file_extension": ".py",
   "mimetype": "text/x-python",
   "name": "python",
   "nbconvert_exporter": "python",
   "pygments_lexer": "ipython3",
   "version": "3.9.2"
  }
 },
 "nbformat": 4,
 "nbformat_minor": 5
}
